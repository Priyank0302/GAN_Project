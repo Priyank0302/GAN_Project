{
  "cells": [
    {
      "cell_type": "code",
      "execution_count": null,
      "metadata": {
        "colab": {
          "base_uri": "https://localhost:8080/",
          "height": 452,
          "referenced_widgets": [
            "295f24cd8239447b9a9a17378ef18001",
            "e7a1383dbc354b49b2e4d4da09604a99",
            "3e2870e662b9441da8b20555892624a2",
            "5126b9d321804a87924d18292f90f84e",
            "defa6a7385c94409ba15c3d9063988e0",
            "3bf63f41d1ec41dd9bfdd6f61ea687e5",
            "94eb7463332e4898b16c0b65a2efa155",
            "b2dcef2481b5462192e5f84b2e69c0ba",
            "32e0541c04ef4d6f85bff7ba00705e64",
            "5c34b581b1f34ab38870fd6e4b611993",
            "c09bd602ba8e451d9c6aeff46e89da88",
            "9191e53006e043b2ac192459011eb253",
            "a1547610b46e415ba7bdcf0fb29978cd",
            "9c960acd45494e34b13044d5ea14411e",
            "08ed6bfcf40547599ebb5c81daaaf0d1",
            "ffdd82832bcb429da4bbdb0e79b25aeb",
            "ac49b12bf23044209282f5bca238b698",
            "f72e16f277564f359d3a925281d4a75b",
            "e05b9da1cd4a4f53886e7d2e4f66997a",
            "1b4ca6a5a15a4ca884fe66521f99135b",
            "b994a7cb9e4741919da1f0624381d1e3",
            "4505235c1b4b466993fd5f0b4b12adef",
            "a9219d92d56843299e99ddae986ce7b4",
            "e0faa6969f5d4210ae9a308ed2eaf6ef",
            "69579002570a40b39fca738b685a8c2e",
            "6a7b2b29f927401cb9d5495691917848",
            "bc53acdd1022477398cf2ad914b8157f",
            "c7cd583bfca64e73a9d05cfc170492ad",
            "649cbbedd2bc46978926938ebb3489f9",
            "5e162ec2ce5842a7a56be6cdb253f0d6",
            "2325ee5784e14d2687b4213a8b499fb6",
            "f87040ecfa2841729057335dfbbb7dd9",
            "f60646d0ff5549379661ae898e241833",
            "2d8ccc127f8b4b089c4946e27b7d7506",
            "89c518f054cf4c5da32e7049a0fcef00",
            "622f93a48cbd461980ff8813b29931d9",
            "78bfd00588084162b825daefec52454c",
            "8c66dd7077e64944ac5cf1164b74377e",
            "7eb93685b64940a8b3f46edeeeca0d2f",
            "99eef2878e4a4cb9baa1eb3eaf72af68",
            "a74ae327f1fa464c8336b38a1f978167",
            "bb9a35810d934e9db1ce5f29f6251327",
            "29473398692f43dea9aca09e3da3aeaf",
            "f99f9161a1f44d128b85507ed4fd1b25"
          ]
        },
        "id": "ut-XDk9IavS4",
        "outputId": "5c517d25-4f80-4c77-a2ae-68aacdd07352"
      },
      "outputs": [
        {
          "output_type": "stream",
          "name": "stdout",
          "text": [
            "Downloading http://yann.lecun.com/exdb/mnist/train-images-idx3-ubyte.gz\n",
            "Downloading http://yann.lecun.com/exdb/mnist/train-images-idx3-ubyte.gz to data/MNIST/raw/train-images-idx3-ubyte.gz\n"
          ]
        },
        {
          "output_type": "display_data",
          "data": {
            "text/plain": [
              "  0%|          | 0/9912422 [00:00<?, ?it/s]"
            ],
            "application/vnd.jupyter.widget-view+json": {
              "version_major": 2,
              "version_minor": 0,
              "model_id": "295f24cd8239447b9a9a17378ef18001"
            }
          },
          "metadata": {}
        },
        {
          "output_type": "stream",
          "name": "stdout",
          "text": [
            "Extracting data/MNIST/raw/train-images-idx3-ubyte.gz to data/MNIST/raw\n",
            "\n",
            "Downloading http://yann.lecun.com/exdb/mnist/train-labels-idx1-ubyte.gz\n",
            "Downloading http://yann.lecun.com/exdb/mnist/train-labels-idx1-ubyte.gz to data/MNIST/raw/train-labels-idx1-ubyte.gz\n"
          ]
        },
        {
          "output_type": "display_data",
          "data": {
            "text/plain": [
              "  0%|          | 0/28881 [00:00<?, ?it/s]"
            ],
            "application/vnd.jupyter.widget-view+json": {
              "version_major": 2,
              "version_minor": 0,
              "model_id": "9191e53006e043b2ac192459011eb253"
            }
          },
          "metadata": {}
        },
        {
          "output_type": "stream",
          "name": "stdout",
          "text": [
            "Extracting data/MNIST/raw/train-labels-idx1-ubyte.gz to data/MNIST/raw\n",
            "\n",
            "Downloading http://yann.lecun.com/exdb/mnist/t10k-images-idx3-ubyte.gz\n",
            "Downloading http://yann.lecun.com/exdb/mnist/t10k-images-idx3-ubyte.gz to data/MNIST/raw/t10k-images-idx3-ubyte.gz\n"
          ]
        },
        {
          "output_type": "display_data",
          "data": {
            "text/plain": [
              "  0%|          | 0/1648877 [00:00<?, ?it/s]"
            ],
            "application/vnd.jupyter.widget-view+json": {
              "version_major": 2,
              "version_minor": 0,
              "model_id": "a9219d92d56843299e99ddae986ce7b4"
            }
          },
          "metadata": {}
        },
        {
          "output_type": "stream",
          "name": "stdout",
          "text": [
            "Extracting data/MNIST/raw/t10k-images-idx3-ubyte.gz to data/MNIST/raw\n",
            "\n",
            "Downloading http://yann.lecun.com/exdb/mnist/t10k-labels-idx1-ubyte.gz\n",
            "Downloading http://yann.lecun.com/exdb/mnist/t10k-labels-idx1-ubyte.gz to data/MNIST/raw/t10k-labels-idx1-ubyte.gz\n"
          ]
        },
        {
          "output_type": "display_data",
          "data": {
            "text/plain": [
              "  0%|          | 0/4542 [00:00<?, ?it/s]"
            ],
            "application/vnd.jupyter.widget-view+json": {
              "version_major": 2,
              "version_minor": 0,
              "model_id": "2d8ccc127f8b4b089c4946e27b7d7506"
            }
          },
          "metadata": {}
        },
        {
          "output_type": "stream",
          "name": "stdout",
          "text": [
            "Extracting data/MNIST/raw/t10k-labels-idx1-ubyte.gz to data/MNIST/raw\n",
            "\n"
          ]
        }
      ],
      "source": [
        "import torch\n",
        "import torchvision\n",
        "from torchvision.transforms import ToTensor, Normalize, Compose\n",
        "from torchvision.datasets import MNIST\n",
        "\n",
        "mnist = MNIST(root='data', \n",
        "              train=True, \n",
        "              download=True,\n",
        "              transform=Compose([ToTensor(), Normalize(mean=(0.5,), std=(0.5,))]))"
      ]
    },
    {
      "cell_type": "code",
      "execution_count": null,
      "metadata": {
        "id": "UaVrE0aEaxJo",
        "colab": {
          "base_uri": "https://localhost:8080/"
        },
        "outputId": "dbd0137a-d752-43ae-c1ee-d62850af2182"
      },
      "outputs": [
        {
          "output_type": "stream",
          "name": "stdout",
          "text": [
            "Label:  5\n",
            "tensor([[[-0.9922,  0.2078,  0.9843, -0.2941, -1.0000],\n",
            "         [-1.0000,  0.0902,  0.9843,  0.4902, -0.9843],\n",
            "         [-1.0000, -0.9137,  0.4902,  0.9843, -0.4510],\n",
            "         [-1.0000, -1.0000, -0.7255,  0.8902,  0.7647],\n",
            "         [-1.0000, -1.0000, -1.0000, -0.3647,  0.8824]]])\n"
          ]
        },
        {
          "output_type": "execute_result",
          "data": {
            "text/plain": [
              "(tensor(-1.), tensor(1.))"
            ]
          },
          "metadata": {},
          "execution_count": 2
        }
      ],
      "source": [
        "img, label = mnist[0]\n",
        "print('Label: ', label)\n",
        "print(img[:,10:15,10:15])\n",
        "torch.min(img), torch.max(img)"
      ]
    },
    {
      "cell_type": "code",
      "execution_count": null,
      "metadata": {
        "id": "bYafs_mja2SS"
      },
      "outputs": [],
      "source": [
        "def denorm(x):\n",
        "    out = (x + 1) / 2\n",
        "    return out.clamp(0, 1)"
      ]
    },
    {
      "cell_type": "code",
      "execution_count": null,
      "metadata": {
        "id": "FOxHyx7Ma4BK",
        "colab": {
          "base_uri": "https://localhost:8080/",
          "height": 283
        },
        "outputId": "b3e30315-bcce-4a4d-c81f-ccff4d7808ca"
      },
      "outputs": [
        {
          "output_type": "stream",
          "name": "stdout",
          "text": [
            "Label: 5\n"
          ]
        },
        {
          "output_type": "display_data",
          "data": {
            "text/plain": [
              "<Figure size 432x288 with 1 Axes>"
            ],
            "image/png": "[encoded data removed]"
          },
          "metadata": {
            "needs_background": "light"
          }
        }
      ],
      "source": [
        "import matplotlib.pyplot as plt\n",
        "%matplotlib inline\n",
        "\n",
        "img_norm = denorm(img)\n",
        "plt.imshow(img_norm[0], cmap='gray')\n",
        "print('Label:', label)"
      ]
    },
    {
      "cell_type": "code",
      "execution_count": null,
      "metadata": {
        "id": "BT8RbZqya59n"
      },
      "outputs": [],
      "source": [
        "from torch.utils.data import DataLoader\n",
        "\n",
        "batch_size = 100\n",
        "data_loader = DataLoader(mnist, batch_size, shuffle=True)"
      ]
    },
    {
      "cell_type": "code",
      "execution_count": null,
      "metadata": {
        "id": "w03V57vka-Hj",
        "colab": {
          "base_uri": "https://localhost:8080/",
          "height": 391
        },
        "outputId": "062cc3d3-00c2-417f-aa6f-321a2b4e0314"
      },
      "outputs": [
        {
          "output_type": "stream",
          "name": "stdout",
          "text": [
            "first batch\n",
            "torch.Size([100, 1, 28, 28])\n",
            "tensor([4, 3, 1, 2, 8, 1, 8, 6, 7, 3, 9, 4, 4, 9, 1, 2, 0, 4, 4, 9, 1, 3, 7, 1,\n",
            "        7, 9, 2, 8, 7, 7, 0, 3, 3, 4, 2, 2, 1, 5, 7, 2, 5, 5, 0, 4, 0, 0, 8, 8,\n",
            "        1, 8, 4, 4, 5, 4, 7, 9, 2, 8, 9, 1, 7, 3, 0, 5, 1, 4, 2, 7, 1, 6, 8, 8,\n",
            "        0, 0, 2, 3, 3, 9, 9, 6, 2, 6, 7, 7, 9, 4, 9, 7, 9, 1, 2, 6, 0, 0, 0, 7,\n",
            "        0, 6, 8, 2])\n"
          ]
        },
        {
          "output_type": "display_data",
          "data": {
            "text/plain": [
              "<Figure size 432x288 with 1 Axes>"
            ],
            "image/png": "[encoded data removed]"
          },
          "metadata": {
            "needs_background": "light"
          }
        }
      ],
      "source": [
        "for img_batch, label_batch in data_loader:\n",
        "    print('first batch')\n",
        "    print(img_batch.shape)\n",
        "    plt.imshow(img_batch[0][0], cmap='gray')\n",
        "    print(label_batch)\n",
        "    break"
      ]
    },
    {
      "cell_type": "code",
      "execution_count": null,
      "metadata": {
        "id": "gLdkR_Bma-EN"
      },
      "outputs": [],
      "source": [
        "device = torch.device('cuda' if torch.cuda.is_available() else 'cpu')"
      ]
    },
    {
      "cell_type": "code",
      "execution_count": null,
      "metadata": {
        "id": "oVrfcsV7a-Bj",
        "colab": {
          "base_uri": "https://localhost:8080/"
        },
        "outputId": "4116c2ab-ef10-46fc-cd69-3f22c36a50ce"
      },
      "outputs": [
        {
          "output_type": "execute_result",
          "data": {
            "text/plain": [
              "device(type='cuda')"
            ]
          },
          "metadata": {},
          "execution_count": 9
        }
      ],
      "source": [
        "device"
      ]
    },
    {
      "cell_type": "code",
      "execution_count": null,
      "metadata": {
        "id": "lQghpMlSa92w"
      },
      "outputs": [],
      "source": [
        "image_size = 784\n",
        "hidden_size = 256"
      ]
    },
    {
      "cell_type": "code",
      "execution_count": null,
      "metadata": {
        "id": "Vjte3XZra9zL"
      },
      "outputs": [],
      "source": [
        "import torch.nn as nn\n",
        "\n",
        "D = nn.Sequential(\n",
        "    nn.Linear(image_size, hidden_size),\n",
        "    nn.LeakyReLU(0.2),\n",
        "    nn.Linear(hidden_size, hidden_size),\n",
        "    nn.LeakyReLU(0.2),\n",
        "    nn.Linear(hidden_size, 1),\n",
        "    nn.Sigmoid())"
      ]
    },
    {
      "cell_type": "code",
      "execution_count": null,
      "metadata": {
        "id": "040Sif6fa9uy"
      },
      "outputs": [],
      "source": [
        "\n",
        "D.to(device);"
      ]
    },
    {
      "cell_type": "code",
      "execution_count": null,
      "metadata": {
        "id": "WMaQ56yea9rX"
      },
      "outputs": [],
      "source": [
        "latent_size = 64"
      ]
    },
    {
      "cell_type": "code",
      "execution_count": null,
      "metadata": {
        "id": "2PGV4Y19a9o4"
      },
      "outputs": [],
      "source": [
        "G = nn.Sequential(\n",
        "    nn.Linear(latent_size, hidden_size),\n",
        "    nn.ReLU(),\n",
        "    nn.Linear(hidden_size, hidden_size),\n",
        "    nn.ReLU(),\n",
        "    nn.Linear(hidden_size, image_size),\n",
        "    nn.Tanh())"
      ]
    },
    {
      "cell_type": "code",
      "execution_count": null,
      "metadata": {
        "id": "eBylj7mNa9mH"
      },
      "outputs": [],
      "source": [
        "y = G(torch.randn(2, latent_size))\n",
        "gen_imgs = denorm(y.reshape((-1, 28,28)).detach())"
      ]
    },
    {
      "cell_type": "code",
      "execution_count": null,
      "metadata": {
        "id": "509X2C1kbNri",
        "colab": {
          "base_uri": "https://localhost:8080/",
          "height": 265
        },
        "outputId": "5509e709-a9c4-4d5c-ebb3-ab70ced7d9ee"
      },
      "outputs": [
        {
          "output_type": "display_data",
          "data": {
            "text/plain": [
              "<Figure size 432x288 with 1 Axes>"
            ],
            "image/png": "[encoded data removed]"
          },
          "metadata": {
            "needs_background": "light"
          }
        }
      ],
      "source": [
        "plt.imshow(gen_imgs[0], cmap='gray');"
      ]
    },
    {
      "cell_type": "code",
      "execution_count": null,
      "metadata": {
        "id": "N3NdN5PmbNoL",
        "colab": {
          "base_uri": "https://localhost:8080/"
        },
        "outputId": "3c0ffc6c-2978-47cb-b53c-354d20d63ac7"
      },
      "outputs": [
        {
          "output_type": "stream",
          "name": "stdout",
          "text": [
            "Thu Jun 23 12:35:18 2022       \n",
            "+-----------------------------------------------------------------------------+\n",
            "| NVIDIA-SMI 460.32.03    Driver Version: 460.32.03    CUDA Version: 11.2     |\n",
            "|-------------------------------+----------------------+----------------------+\n",
            "| GPU  Name        Persistence-M| Bus-Id        Disp.A | Volatile Uncorr. ECC |\n",
            "| Fan  Temp  Perf  Pwr:Usage/Cap|         Memory-Usage | GPU-Util  Compute M. |\n",
            "|                               |                      |               MIG M. |\n",
            "|===============================+======================+======================|\n",
            "|   0  Tesla T4            Off  | 00000000:00:04.0 Off |                    0 |\n",
            "| N/A   46C    P0    28W /  70W |   1250MiB / 15109MiB |      0%      Default |\n",
            "|                               |                      |                  N/A |\n",
            "+-------------------------------+----------------------+----------------------+\n",
            "                                                                               \n",
            "+-----------------------------------------------------------------------------+\n",
            "| Processes:                                                                  |\n",
            "|  GPU   GI   CI        PID   Type   Process name                  GPU Memory |\n",
            "|        ID   ID                                                   Usage      |\n",
            "|=============================================================================|\n",
            "+-----------------------------------------------------------------------------+\n"
          ]
        }
      ],
      "source": [
        "!nvidia-smi"
      ]
    },
    {
      "cell_type": "code",
      "execution_count": null,
      "metadata": {
        "id": "9f9xvbahbNmO"
      },
      "outputs": [],
      "source": [
        "G.to(device);"
      ]
    },
    {
      "cell_type": "code",
      "execution_count": null,
      "metadata": {
        "id": "oNceWABgbNka"
      },
      "outputs": [],
      "source": [
        "criterion = nn.BCELoss()\n",
        "d_optimizer = torch.optim.Adam(D.parameters(), lr=0.0002)"
      ]
    },
    {
      "cell_type": "code",
      "execution_count": null,
      "metadata": {
        "id": "98nenSwObNik"
      },
      "outputs": [],
      "source": [
        "def reset_grad():\n",
        "    d_optimizer.zero_grad()\n",
        "    g_optimizer.zero_grad()\n",
        "\n",
        "def train_discriminator(images):\n",
        "    # Create the labels which are later used as input for the BCE loss\n",
        "    real_labels = torch.ones(batch_size, 1).to(device)\n",
        "    fake_labels = torch.zeros(batch_size, 1).to(device)\n",
        "        \n",
        "    # Loss for real images\n",
        "    outputs = D(images)\n",
        "    d_loss_real = criterion(outputs, real_labels)\n",
        "    real_score = outputs\n",
        "\n",
        "    # Loss for fake images\n",
        "    z = torch.randn(batch_size, latent_size).to(device)\n",
        "    fake_images = G(z)\n",
        "    outputs = D(fake_images)\n",
        "    d_loss_fake = criterion(outputs, fake_labels)\n",
        "    fake_score = outputs\n",
        "\n",
        "    # Combine losses\n",
        "    d_loss = d_loss_real + d_loss_fake\n",
        "    # Reset gradients\n",
        "    reset_grad()\n",
        "    # Compute gradients\n",
        "    d_loss.backward()\n",
        "    # Adjust the parameters using backprop\n",
        "    d_optimizer.step()\n",
        "    \n",
        "    return d_loss, real_score, fake_score\n"
      ]
    },
    {
      "cell_type": "code",
      "execution_count": null,
      "metadata": {
        "id": "XjIMpJNAbNgW"
      },
      "outputs": [],
      "source": [
        "g_optimizer = torch.optim.Adam(G.parameters(), lr=0.0002)"
      ]
    },
    {
      "cell_type": "code",
      "execution_count": null,
      "metadata": {
        "id": "Xz-AgC9_bNec"
      },
      "outputs": [],
      "source": [
        "def train_generator():\n",
        "    # Generate fake images and calculate loss\n",
        "    z = torch.randn(batch_size, latent_size).to(device)\n",
        "    fake_images = G(z)\n",
        "    labels = torch.ones(batch_size, 1).to(device)\n",
        "    g_loss = criterion(D(fake_images), labels)\n",
        "\n",
        "    # Backprop and optimize\n",
        "    reset_grad()\n",
        "    g_loss.backward()\n",
        "    g_optimizer.step()\n",
        "    return g_loss, fake_images"
      ]
    },
    {
      "cell_type": "code",
      "execution_count": null,
      "metadata": {
        "id": "GmzBN0f4bNcO",
        "colab": {
          "base_uri": "https://localhost:8080/",
          "height": 319
        },
        "outputId": "c27a345a-a79a-4543-d6de-2a694ffca68a"
      },
      "outputs": [
        {
          "output_type": "execute_result",
          "data": {
            "text/plain": [
              "<IPython.core.display.Image object>"
            ],
            "image/png": "[encoded data removed]"
          },
          "metadata": {},
          "execution_count": 23
        }
      ],
      "source": [
        "import os\n",
        "\n",
        "sample_dir = 'samples'\n",
        "if not os.path.exists(sample_dir):\n",
        "    os.makedirs(sample_dir)\n",
        "from IPython.display import Image\n",
        "from torchvision.utils import save_image\n",
        "\n",
        "# Save some real images\n",
        "for images, _ in data_loader:\n",
        "    images = images.reshape(images.size(0), 1, 28, 28)\n",
        "    save_image(denorm(images), os.path.join(sample_dir, 'real_images.png'), nrow=10)\n",
        "    break\n",
        "   \n",
        "Image(os.path.join(sample_dir, 'real_images.png'))"
      ]
    },
    {
      "cell_type": "code",
      "execution_count": null,
      "metadata": {
        "id": "TRKkK0f1bNaw",
        "colab": {
          "base_uri": "https://localhost:8080/",
          "height": 337
        },
        "outputId": "20898a35-22e5-433a-e66d-4847be5c0ba0"
      },
      "outputs": [
        {
          "output_type": "stream",
          "name": "stdout",
          "text": [
            "Saving fake_images-0000.png\n"
          ]
        },
        {
          "output_type": "execute_result",
          "data": {
            "text/plain": [
              "<IPython.core.display.Image object>"
            ],
            "image/png": "[encoded data removed]"
          },
          "metadata": {},
          "execution_count": 24
        }
      ],
      "source": [
        "sample_vectors = torch.randn(batch_size, latent_size).to(device)\n",
        "\n",
        "def save_fake_images(index):\n",
        "    fake_images = G(sample_vectors)\n",
        "    fake_images = fake_images.reshape(fake_images.size(0), 1, 28, 28)\n",
        "    fake_fname = 'fake_images-{0:0=4d}.png'.format(index)\n",
        "    print('Saving', fake_fname)\n",
        "    save_image(denorm(fake_images), os.path.join(sample_dir, fake_fname), nrow=10)\n",
        "    \n",
        "# Before training\n",
        "save_fake_images(0)\n",
        "Image(os.path.join(sample_dir, 'fake_images-0000.png'))"
      ]
    },
    {
      "cell_type": "code",
      "execution_count": null,
      "metadata": {
        "id": "CFp2MS_ebNYp",
        "colab": {
          "base_uri": "https://localhost:8080/"
        },
        "outputId": "b9556298-93da-4132-946a-3b603da76c02"
      },
      "outputs": [
        {
          "output_type": "stream",
          "name": "stdout",
          "text": [
            "Epoch [0/100], Step [200/600], d_loss: 0.6829, g_loss: 2.9203, D(x): 0.80, D(G(z)): 0.23\n",
            "Epoch [0/100], Step [400/600], d_loss: 0.4951, g_loss: 2.3702, D(x): 0.82, D(G(z)): 0.17\n",
            "Epoch [0/100], Step [600/600], d_loss: 0.6492, g_loss: 1.7892, D(x): 0.76, D(G(z)): 0.19\n",
            "Saving fake_images-0001.png\n",
            "Epoch [1/100], Step [200/600], d_loss: 0.9359, g_loss: 1.9282, D(x): 0.75, D(G(z)): 0.28\n",
            "Epoch [1/100], Step [400/600], d_loss: 0.5786, g_loss: 2.0353, D(x): 0.77, D(G(z)): 0.17\n",
            "Epoch [1/100], Step [600/600], d_loss: 0.5227, g_loss: 2.6605, D(x): 0.85, D(G(z)): 0.22\n",
            "Saving fake_images-0002.png\n",
            "Epoch [2/100], Step [200/600], d_loss: 0.6538, g_loss: 2.9436, D(x): 0.75, D(G(z)): 0.17\n",
            "Epoch [2/100], Step [400/600], d_loss: 0.5586, g_loss: 2.2205, D(x): 0.82, D(G(z)): 0.20\n",
            "Epoch [2/100], Step [600/600], d_loss: 0.6710, g_loss: 2.3022, D(x): 0.74, D(G(z)): 0.16\n",
            "Saving fake_images-0003.png\n",
            "Epoch [3/100], Step [200/600], d_loss: 0.5421, g_loss: 2.4112, D(x): 0.82, D(G(z)): 0.20\n",
            "Epoch [3/100], Step [400/600], d_loss: 0.6376, g_loss: 2.0255, D(x): 0.81, D(G(z)): 0.22\n",
            "Epoch [3/100], Step [600/600], d_loss: 0.6601, g_loss: 1.7132, D(x): 0.83, D(G(z)): 0.28\n",
            "Saving fake_images-0004.png\n",
            "Epoch [4/100], Step [200/600], d_loss: 0.8088, g_loss: 1.8397, D(x): 0.79, D(G(z)): 0.28\n",
            "Epoch [4/100], Step [400/600], d_loss: 0.6440, g_loss: 2.2194, D(x): 0.84, D(G(z)): 0.28\n",
            "Epoch [4/100], Step [600/600], d_loss: 0.6586, g_loss: 2.0023, D(x): 0.80, D(G(z)): 0.23\n",
            "Saving fake_images-0005.png\n",
            "Epoch [5/100], Step [200/600], d_loss: 0.6470, g_loss: 2.4690, D(x): 0.75, D(G(z)): 0.16\n",
            "Epoch [5/100], Step [400/600], d_loss: 0.7830, g_loss: 2.1260, D(x): 0.77, D(G(z)): 0.27\n",
            "Epoch [5/100], Step [600/600], d_loss: 0.5179, g_loss: 3.0019, D(x): 0.80, D(G(z)): 0.14\n",
            "Saving fake_images-0006.png\n",
            "Epoch [6/100], Step [200/600], d_loss: 0.9769, g_loss: 1.4237, D(x): 0.87, D(G(z)): 0.45\n",
            "Epoch [6/100], Step [400/600], d_loss: 0.6645, g_loss: 2.6488, D(x): 0.72, D(G(z)): 0.12\n",
            "Epoch [6/100], Step [600/600], d_loss: 0.6059, g_loss: 2.1063, D(x): 0.80, D(G(z)): 0.21\n",
            "Saving fake_images-0007.png\n",
            "Epoch [7/100], Step [200/600], d_loss: 0.8353, g_loss: 2.1030, D(x): 0.75, D(G(z)): 0.26\n",
            "Epoch [7/100], Step [400/600], d_loss: 0.9564, g_loss: 2.6951, D(x): 0.63, D(G(z)): 0.12\n",
            "Epoch [7/100], Step [600/600], d_loss: 0.6297, g_loss: 1.8494, D(x): 0.79, D(G(z)): 0.25\n",
            "Saving fake_images-0008.png\n",
            "Epoch [8/100], Step [200/600], d_loss: 0.7217, g_loss: 2.8306, D(x): 0.73, D(G(z)): 0.19\n",
            "Epoch [8/100], Step [400/600], d_loss: 0.7191, g_loss: 2.3481, D(x): 0.77, D(G(z)): 0.21\n",
            "Epoch [8/100], Step [600/600], d_loss: 0.6439, g_loss: 2.7161, D(x): 0.79, D(G(z)): 0.21\n",
            "Saving fake_images-0009.png\n",
            "Epoch [9/100], Step [200/600], d_loss: 0.8651, g_loss: 1.7145, D(x): 0.80, D(G(z)): 0.31\n",
            "Epoch [9/100], Step [400/600], d_loss: 0.7121, g_loss: 2.9356, D(x): 0.84, D(G(z)): 0.30\n",
            "Epoch [9/100], Step [600/600], d_loss: 0.5945, g_loss: 1.9428, D(x): 0.82, D(G(z)): 0.21\n",
            "Saving fake_images-0010.png\n",
            "Epoch [10/100], Step [200/600], d_loss: 0.6893, g_loss: 2.2563, D(x): 0.82, D(G(z)): 0.28\n",
            "Epoch [10/100], Step [400/600], d_loss: 0.6052, g_loss: 2.7851, D(x): 0.75, D(G(z)): 0.13\n",
            "Epoch [10/100], Step [600/600], d_loss: 0.7982, g_loss: 3.0354, D(x): 0.74, D(G(z)): 0.17\n",
            "Saving fake_images-0011.png\n",
            "Epoch [11/100], Step [200/600], d_loss: 0.7113, g_loss: 2.6013, D(x): 0.75, D(G(z)): 0.19\n",
            "Epoch [11/100], Step [400/600], d_loss: 0.6660, g_loss: 2.9284, D(x): 0.81, D(G(z)): 0.25\n",
            "Epoch [11/100], Step [600/600], d_loss: 0.6023, g_loss: 2.4832, D(x): 0.82, D(G(z)): 0.22\n",
            "Saving fake_images-0012.png\n",
            "Epoch [12/100], Step [200/600], d_loss: 0.6734, g_loss: 3.2127, D(x): 0.77, D(G(z)): 0.19\n",
            "Epoch [12/100], Step [400/600], d_loss: 0.5754, g_loss: 2.5970, D(x): 0.89, D(G(z)): 0.28\n",
            "Epoch [12/100], Step [600/600], d_loss: 0.7452, g_loss: 1.8241, D(x): 0.72, D(G(z)): 0.21\n",
            "Saving fake_images-0013.png\n",
            "Epoch [13/100], Step [200/600], d_loss: 0.7154, g_loss: 1.8151, D(x): 0.85, D(G(z)): 0.32\n",
            "Epoch [13/100], Step [400/600], d_loss: 0.9101, g_loss: 2.3388, D(x): 0.64, D(G(z)): 0.17\n",
            "Epoch [13/100], Step [600/600], d_loss: 0.5748, g_loss: 2.0245, D(x): 0.79, D(G(z)): 0.19\n",
            "Saving fake_images-0014.png\n",
            "Epoch [14/100], Step [200/600], d_loss: 0.6320, g_loss: 1.8249, D(x): 0.83, D(G(z)): 0.27\n",
            "Epoch [14/100], Step [400/600], d_loss: 0.7506, g_loss: 2.1799, D(x): 0.71, D(G(z)): 0.19\n",
            "Epoch [14/100], Step [600/600], d_loss: 0.8807, g_loss: 2.1687, D(x): 0.76, D(G(z)): 0.27\n",
            "Saving fake_images-0015.png\n",
            "Epoch [15/100], Step [200/600], d_loss: 0.6524, g_loss: 1.7832, D(x): 0.79, D(G(z)): 0.23\n",
            "Epoch [15/100], Step [400/600], d_loss: 0.9757, g_loss: 2.3197, D(x): 0.70, D(G(z)): 0.25\n",
            "Epoch [15/100], Step [600/600], d_loss: 0.8158, g_loss: 1.6524, D(x): 0.84, D(G(z)): 0.37\n",
            "Saving fake_images-0016.png\n",
            "Epoch [16/100], Step [200/600], d_loss: 0.9111, g_loss: 1.7675, D(x): 0.71, D(G(z)): 0.29\n",
            "Epoch [16/100], Step [400/600], d_loss: 0.7153, g_loss: 2.4247, D(x): 0.77, D(G(z)): 0.22\n",
            "Epoch [16/100], Step [600/600], d_loss: 0.7995, g_loss: 1.6820, D(x): 0.77, D(G(z)): 0.28\n",
            "Saving fake_images-0017.png\n",
            "Epoch [17/100], Step [200/600], d_loss: 0.8020, g_loss: 2.2004, D(x): 0.71, D(G(z)): 0.21\n",
            "Epoch [17/100], Step [400/600], d_loss: 0.6361, g_loss: 2.1907, D(x): 0.77, D(G(z)): 0.23\n",
            "Epoch [17/100], Step [600/600], d_loss: 0.6182, g_loss: 2.0650, D(x): 0.80, D(G(z)): 0.24\n",
            "Saving fake_images-0018.png\n",
            "Epoch [18/100], Step [200/600], d_loss: 0.7920, g_loss: 2.4985, D(x): 0.70, D(G(z)): 0.20\n",
            "Epoch [18/100], Step [400/600], d_loss: 0.9714, g_loss: 1.9935, D(x): 0.66, D(G(z)): 0.19\n",
            "Epoch [18/100], Step [600/600], d_loss: 0.8282, g_loss: 1.9099, D(x): 0.74, D(G(z)): 0.27\n",
            "Saving fake_images-0019.png\n",
            "Epoch [19/100], Step [200/600], d_loss: 0.8074, g_loss: 1.3870, D(x): 0.78, D(G(z)): 0.29\n",
            "Epoch [19/100], Step [400/600], d_loss: 0.7324, g_loss: 2.0008, D(x): 0.76, D(G(z)): 0.27\n",
            "Epoch [19/100], Step [600/600], d_loss: 1.0721, g_loss: 2.1494, D(x): 0.73, D(G(z)): 0.38\n",
            "Saving fake_images-0020.png\n",
            "Epoch [20/100], Step [200/600], d_loss: 0.6732, g_loss: 2.1770, D(x): 0.76, D(G(z)): 0.21\n",
            "Epoch [20/100], Step [400/600], d_loss: 0.6728, g_loss: 2.1702, D(x): 0.81, D(G(z)): 0.27\n",
            "Epoch [20/100], Step [600/600], d_loss: 0.6221, g_loss: 2.0781, D(x): 0.76, D(G(z)): 0.17\n",
            "Saving fake_images-0021.png\n",
            "Epoch [21/100], Step [200/600], d_loss: 0.9897, g_loss: 1.7916, D(x): 0.69, D(G(z)): 0.29\n",
            "Epoch [21/100], Step [400/600], d_loss: 0.7848, g_loss: 2.4532, D(x): 0.75, D(G(z)): 0.26\n",
            "Epoch [21/100], Step [600/600], d_loss: 0.5798, g_loss: 1.8146, D(x): 0.85, D(G(z)): 0.28\n",
            "Saving fake_images-0022.png\n",
            "Epoch [22/100], Step [200/600], d_loss: 0.7484, g_loss: 2.7529, D(x): 0.71, D(G(z)): 0.17\n",
            "Epoch [22/100], Step [400/600], d_loss: 0.7934, g_loss: 2.1769, D(x): 0.78, D(G(z)): 0.29\n",
            "Epoch [22/100], Step [600/600], d_loss: 0.8738, g_loss: 1.9135, D(x): 0.68, D(G(z)): 0.24\n",
            "Saving fake_images-0023.png\n",
            "Epoch [23/100], Step [200/600], d_loss: 0.5751, g_loss: 2.1917, D(x): 0.83, D(G(z)): 0.24\n",
            "Epoch [23/100], Step [400/600], d_loss: 0.8899, g_loss: 2.0268, D(x): 0.72, D(G(z)): 0.30\n",
            "Epoch [23/100], Step [600/600], d_loss: 0.6093, g_loss: 2.4467, D(x): 0.75, D(G(z)): 0.18\n",
            "Saving fake_images-0024.png\n",
            "Epoch [24/100], Step [200/600], d_loss: 0.9858, g_loss: 1.4739, D(x): 0.70, D(G(z)): 0.26\n",
            "Epoch [24/100], Step [400/600], d_loss: 0.7614, g_loss: 2.4611, D(x): 0.74, D(G(z)): 0.26\n",
            "Epoch [24/100], Step [600/600], d_loss: 0.7665, g_loss: 2.9580, D(x): 0.70, D(G(z)): 0.16\n",
            "Saving fake_images-0025.png\n",
            "Epoch [25/100], Step [200/600], d_loss: 0.7438, g_loss: 2.6294, D(x): 0.81, D(G(z)): 0.27\n",
            "Epoch [25/100], Step [400/600], d_loss: 0.6077, g_loss: 2.3366, D(x): 0.84, D(G(z)): 0.26\n",
            "Epoch [25/100], Step [600/600], d_loss: 0.7651, g_loss: 2.2525, D(x): 0.76, D(G(z)): 0.25\n",
            "Saving fake_images-0026.png\n",
            "Epoch [26/100], Step [200/600], d_loss: 0.9680, g_loss: 1.7226, D(x): 0.81, D(G(z)): 0.40\n",
            "Epoch [26/100], Step [400/600], d_loss: 0.6655, g_loss: 2.5088, D(x): 0.84, D(G(z)): 0.26\n",
            "Epoch [26/100], Step [600/600], d_loss: 0.9242, g_loss: 1.6606, D(x): 0.70, D(G(z)): 0.25\n",
            "Saving fake_images-0027.png\n",
            "Epoch [27/100], Step [200/600], d_loss: 0.6089, g_loss: 2.0822, D(x): 0.85, D(G(z)): 0.29\n",
            "Epoch [27/100], Step [400/600], d_loss: 0.8539, g_loss: 1.8725, D(x): 0.75, D(G(z)): 0.31\n",
            "Epoch [27/100], Step [600/600], d_loss: 0.7838, g_loss: 2.1986, D(x): 0.80, D(G(z)): 0.29\n",
            "Saving fake_images-0028.png\n",
            "Epoch [28/100], Step [200/600], d_loss: 0.8922, g_loss: 1.9673, D(x): 0.71, D(G(z)): 0.27\n",
            "Epoch [28/100], Step [400/600], d_loss: 0.9725, g_loss: 1.6068, D(x): 0.73, D(G(z)): 0.31\n",
            "Epoch [28/100], Step [600/600], d_loss: 0.9618, g_loss: 1.4040, D(x): 0.64, D(G(z)): 0.23\n",
            "Saving fake_images-0029.png\n",
            "Epoch [29/100], Step [200/600], d_loss: 0.6716, g_loss: 2.0582, D(x): 0.86, D(G(z)): 0.33\n",
            "Epoch [29/100], Step [400/600], d_loss: 0.8869, g_loss: 2.3443, D(x): 0.70, D(G(z)): 0.26\n",
            "Epoch [29/100], Step [600/600], d_loss: 0.7571, g_loss: 2.1372, D(x): 0.82, D(G(z)): 0.28\n",
            "Saving fake_images-0030.png\n",
            "Epoch [30/100], Step [200/600], d_loss: 0.6512, g_loss: 1.9341, D(x): 0.78, D(G(z)): 0.23\n",
            "Epoch [30/100], Step [400/600], d_loss: 0.7087, g_loss: 2.0874, D(x): 0.69, D(G(z)): 0.13\n",
            "Epoch [30/100], Step [600/600], d_loss: 0.9794, g_loss: 1.4310, D(x): 0.77, D(G(z)): 0.39\n",
            "Saving fake_images-0031.png\n",
            "Epoch [31/100], Step [200/600], d_loss: 0.7104, g_loss: 2.1997, D(x): 0.76, D(G(z)): 0.25\n",
            "Epoch [31/100], Step [400/600], d_loss: 0.8809, g_loss: 2.5608, D(x): 0.62, D(G(z)): 0.13\n",
            "Epoch [31/100], Step [600/600], d_loss: 0.8096, g_loss: 1.9534, D(x): 0.78, D(G(z)): 0.31\n",
            "Saving fake_images-0032.png\n",
            "Epoch [32/100], Step [200/600], d_loss: 0.7256, g_loss: 1.7394, D(x): 0.75, D(G(z)): 0.21\n",
            "Epoch [32/100], Step [400/600], d_loss: 1.1396, g_loss: 1.3551, D(x): 0.68, D(G(z)): 0.37\n",
            "Epoch [32/100], Step [600/600], d_loss: 0.7243, g_loss: 2.0456, D(x): 0.79, D(G(z)): 0.28\n",
            "Saving fake_images-0033.png\n",
            "Epoch [33/100], Step [200/600], d_loss: 0.7241, g_loss: 2.1951, D(x): 0.76, D(G(z)): 0.23\n",
            "Epoch [33/100], Step [400/600], d_loss: 0.8879, g_loss: 1.9985, D(x): 0.77, D(G(z)): 0.32\n",
            "Epoch [33/100], Step [600/600], d_loss: 0.6984, g_loss: 1.7212, D(x): 0.81, D(G(z)): 0.30\n",
            "Saving fake_images-0034.png\n",
            "Epoch [34/100], Step [200/600], d_loss: 0.7409, g_loss: 2.0542, D(x): 0.73, D(G(z)): 0.23\n",
            "Epoch [34/100], Step [400/600], d_loss: 0.7532, g_loss: 2.1111, D(x): 0.82, D(G(z)): 0.33\n",
            "Epoch [34/100], Step [600/600], d_loss: 0.6999, g_loss: 2.3867, D(x): 0.76, D(G(z)): 0.22\n",
            "Saving fake_images-0035.png\n",
            "Epoch [35/100], Step [200/600], d_loss: 0.7427, g_loss: 2.1632, D(x): 0.75, D(G(z)): 0.23\n",
            "Epoch [35/100], Step [400/600], d_loss: 0.7028, g_loss: 2.5324, D(x): 0.71, D(G(z)): 0.16\n",
            "Epoch [35/100], Step [600/600], d_loss: 0.6669, g_loss: 2.0893, D(x): 0.74, D(G(z)): 0.19\n",
            "Saving fake_images-0036.png\n",
            "Epoch [36/100], Step [200/600], d_loss: 0.7497, g_loss: 1.4352, D(x): 0.77, D(G(z)): 0.26\n",
            "Epoch [36/100], Step [400/600], d_loss: 0.8843, g_loss: 1.9605, D(x): 0.76, D(G(z)): 0.31\n",
            "Epoch [36/100], Step [600/600], d_loss: 0.7451, g_loss: 2.3910, D(x): 0.65, D(G(z)): 0.08\n",
            "Saving fake_images-0037.png\n",
            "Epoch [37/100], Step [200/600], d_loss: 0.7210, g_loss: 1.5413, D(x): 0.77, D(G(z)): 0.27\n",
            "Epoch [37/100], Step [400/600], d_loss: 0.7085, g_loss: 2.4832, D(x): 0.73, D(G(z)): 0.16\n",
            "Epoch [37/100], Step [600/600], d_loss: 0.7667, g_loss: 1.2817, D(x): 0.77, D(G(z)): 0.30\n",
            "Saving fake_images-0038.png\n",
            "Epoch [38/100], Step [200/600], d_loss: 0.6636, g_loss: 1.8944, D(x): 0.81, D(G(z)): 0.27\n",
            "Epoch [38/100], Step [400/600], d_loss: 0.7376, g_loss: 1.7420, D(x): 0.79, D(G(z)): 0.28\n",
            "Epoch [38/100], Step [600/600], d_loss: 0.5615, g_loss: 1.8892, D(x): 0.83, D(G(z)): 0.24\n",
            "Saving fake_images-0039.png\n",
            "Epoch [39/100], Step [200/600], d_loss: 0.5568, g_loss: 2.0305, D(x): 0.83, D(G(z)): 0.24\n",
            "Epoch [39/100], Step [400/600], d_loss: 0.9084, g_loss: 2.2480, D(x): 0.70, D(G(z)): 0.24\n",
            "Epoch [39/100], Step [600/600], d_loss: 0.8364, g_loss: 1.6241, D(x): 0.77, D(G(z)): 0.33\n",
            "Saving fake_images-0040.png\n",
            "Epoch [40/100], Step [200/600], d_loss: 1.0169, g_loss: 2.0005, D(x): 0.66, D(G(z)): 0.27\n",
            "Epoch [40/100], Step [400/600], d_loss: 0.8179, g_loss: 1.5803, D(x): 0.76, D(G(z)): 0.30\n",
            "Epoch [40/100], Step [600/600], d_loss: 0.9693, g_loss: 1.8169, D(x): 0.73, D(G(z)): 0.32\n",
            "Saving fake_images-0041.png\n",
            "Epoch [41/100], Step [200/600], d_loss: 0.7546, g_loss: 1.9047, D(x): 0.81, D(G(z)): 0.32\n",
            "Epoch [41/100], Step [400/600], d_loss: 0.6531, g_loss: 2.2520, D(x): 0.78, D(G(z)): 0.23\n",
            "Epoch [41/100], Step [600/600], d_loss: 0.8439, g_loss: 2.0442, D(x): 0.68, D(G(z)): 0.24\n",
            "Saving fake_images-0042.png\n",
            "Epoch [42/100], Step [200/600], d_loss: 0.8368, g_loss: 1.9353, D(x): 0.75, D(G(z)): 0.26\n",
            "Epoch [42/100], Step [400/600], d_loss: 0.8047, g_loss: 1.7546, D(x): 0.77, D(G(z)): 0.31\n",
            "Epoch [42/100], Step [600/600], d_loss: 0.9378, g_loss: 1.9449, D(x): 0.66, D(G(z)): 0.24\n",
            "Saving fake_images-0043.png\n",
            "Epoch [43/100], Step [200/600], d_loss: 0.8284, g_loss: 1.8078, D(x): 0.73, D(G(z)): 0.28\n",
            "Epoch [43/100], Step [400/600], d_loss: 0.6286, g_loss: 2.0664, D(x): 0.75, D(G(z)): 0.19\n",
            "Epoch [43/100], Step [600/600], d_loss: 0.9208, g_loss: 1.5674, D(x): 0.68, D(G(z)): 0.27\n",
            "Saving fake_images-0044.png\n",
            "Epoch [44/100], Step [200/600], d_loss: 0.8370, g_loss: 2.1190, D(x): 0.70, D(G(z)): 0.25\n",
            "Epoch [44/100], Step [400/600], d_loss: 0.7589, g_loss: 2.0279, D(x): 0.76, D(G(z)): 0.27\n",
            "Epoch [44/100], Step [600/600], d_loss: 0.7403, g_loss: 2.3216, D(x): 0.72, D(G(z)): 0.20\n",
            "Saving fake_images-0045.png\n",
            "Epoch [45/100], Step [200/600], d_loss: 1.0357, g_loss: 1.8856, D(x): 0.76, D(G(z)): 0.39\n",
            "Epoch [45/100], Step [400/600], d_loss: 0.7551, g_loss: 1.6963, D(x): 0.74, D(G(z)): 0.25\n",
            "Epoch [45/100], Step [600/600], d_loss: 0.7101, g_loss: 1.8417, D(x): 0.73, D(G(z)): 0.22\n",
            "Saving fake_images-0046.png\n",
            "Epoch [46/100], Step [200/600], d_loss: 0.8109, g_loss: 1.9610, D(x): 0.66, D(G(z)): 0.21\n",
            "Epoch [46/100], Step [400/600], d_loss: 0.9168, g_loss: 1.3516, D(x): 0.72, D(G(z)): 0.28\n",
            "Epoch [46/100], Step [600/600], d_loss: 0.6663, g_loss: 2.4018, D(x): 0.77, D(G(z)): 0.22\n",
            "Saving fake_images-0047.png\n",
            "Epoch [47/100], Step [200/600], d_loss: 1.0104, g_loss: 1.7702, D(x): 0.64, D(G(z)): 0.25\n",
            "Epoch [47/100], Step [400/600], d_loss: 0.8985, g_loss: 1.5272, D(x): 0.75, D(G(z)): 0.31\n",
            "Epoch [47/100], Step [600/600], d_loss: 0.9705, g_loss: 2.0397, D(x): 0.66, D(G(z)): 0.28\n",
            "Saving fake_images-0048.png\n",
            "Epoch [48/100], Step [200/600], d_loss: 1.1243, g_loss: 1.7031, D(x): 0.64, D(G(z)): 0.31\n",
            "Epoch [48/100], Step [400/600], d_loss: 0.8737, g_loss: 1.8771, D(x): 0.66, D(G(z)): 0.19\n",
            "Epoch [48/100], Step [600/600], d_loss: 0.7690, g_loss: 1.6744, D(x): 0.78, D(G(z)): 0.32\n",
            "Saving fake_images-0049.png\n",
            "Epoch [49/100], Step [200/600], d_loss: 0.8431, g_loss: 1.7982, D(x): 0.71, D(G(z)): 0.28\n",
            "Epoch [49/100], Step [400/600], d_loss: 0.8213, g_loss: 1.7587, D(x): 0.76, D(G(z)): 0.30\n",
            "Epoch [49/100], Step [600/600], d_loss: 0.6929, g_loss: 2.1624, D(x): 0.78, D(G(z)): 0.23\n",
            "Saving fake_images-0050.png\n",
            "Epoch [50/100], Step [200/600], d_loss: 0.9704, g_loss: 2.1122, D(x): 0.72, D(G(z)): 0.31\n",
            "Epoch [50/100], Step [400/600], d_loss: 0.9820, g_loss: 1.1781, D(x): 0.73, D(G(z)): 0.31\n",
            "Epoch [50/100], Step [600/600], d_loss: 0.9731, g_loss: 1.5719, D(x): 0.65, D(G(z)): 0.24\n",
            "Saving fake_images-0051.png\n",
            "Epoch [51/100], Step [200/600], d_loss: 1.0040, g_loss: 1.5622, D(x): 0.63, D(G(z)): 0.25\n",
            "Epoch [51/100], Step [400/600], d_loss: 0.8275, g_loss: 1.4656, D(x): 0.72, D(G(z)): 0.26\n",
            "Epoch [51/100], Step [600/600], d_loss: 0.7441, g_loss: 1.7110, D(x): 0.76, D(G(z)): 0.28\n",
            "Saving fake_images-0052.png\n",
            "Epoch [52/100], Step [200/600], d_loss: 0.6951, g_loss: 1.7763, D(x): 0.74, D(G(z)): 0.22\n",
            "Epoch [52/100], Step [400/600], d_loss: 0.8730, g_loss: 2.1659, D(x): 0.67, D(G(z)): 0.23\n",
            "Epoch [52/100], Step [600/600], d_loss: 0.6448, g_loss: 1.7578, D(x): 0.75, D(G(z)): 0.20\n",
            "Saving fake_images-0053.png\n",
            "Epoch [53/100], Step [200/600], d_loss: 1.0369, g_loss: 1.8210, D(x): 0.65, D(G(z)): 0.25\n",
            "Epoch [53/100], Step [400/600], d_loss: 0.7063, g_loss: 2.1924, D(x): 0.72, D(G(z)): 0.20\n",
            "Epoch [53/100], Step [600/600], d_loss: 0.8343, g_loss: 2.1118, D(x): 0.70, D(G(z)): 0.19\n",
            "Saving fake_images-0054.png\n",
            "Epoch [54/100], Step [200/600], d_loss: 0.7080, g_loss: 2.1133, D(x): 0.72, D(G(z)): 0.20\n",
            "Epoch [54/100], Step [400/600], d_loss: 0.9206, g_loss: 1.4465, D(x): 0.83, D(G(z)): 0.42\n",
            "Epoch [54/100], Step [600/600], d_loss: 1.0433, g_loss: 1.4645, D(x): 0.66, D(G(z)): 0.33\n",
            "Saving fake_images-0055.png\n",
            "Epoch [55/100], Step [200/600], d_loss: 1.0051, g_loss: 1.3102, D(x): 0.74, D(G(z)): 0.37\n",
            "Epoch [55/100], Step [400/600], d_loss: 0.8649, g_loss: 1.1825, D(x): 0.73, D(G(z)): 0.30\n",
            "Epoch [55/100], Step [600/600], d_loss: 0.8568, g_loss: 1.6045, D(x): 0.78, D(G(z)): 0.36\n",
            "Saving fake_images-0056.png\n",
            "Epoch [56/100], Step [200/600], d_loss: 0.9889, g_loss: 1.2945, D(x): 0.68, D(G(z)): 0.34\n",
            "Epoch [56/100], Step [400/600], d_loss: 0.8922, g_loss: 1.2361, D(x): 0.72, D(G(z)): 0.32\n",
            "Epoch [56/100], Step [600/600], d_loss: 0.9688, g_loss: 1.5691, D(x): 0.82, D(G(z)): 0.41\n",
            "Saving fake_images-0057.png\n",
            "Epoch [57/100], Step [200/600], d_loss: 1.0275, g_loss: 1.9016, D(x): 0.65, D(G(z)): 0.31\n",
            "Epoch [57/100], Step [400/600], d_loss: 0.8296, g_loss: 1.4135, D(x): 0.77, D(G(z)): 0.34\n",
            "Epoch [57/100], Step [600/600], d_loss: 0.8656, g_loss: 1.5256, D(x): 0.74, D(G(z)): 0.33\n",
            "Saving fake_images-0058.png\n",
            "Epoch [58/100], Step [200/600], d_loss: 0.8658, g_loss: 1.8550, D(x): 0.68, D(G(z)): 0.26\n",
            "Epoch [58/100], Step [400/600], d_loss: 0.8127, g_loss: 1.7126, D(x): 0.66, D(G(z)): 0.20\n",
            "Epoch [58/100], Step [600/600], d_loss: 0.8534, g_loss: 1.4159, D(x): 0.75, D(G(z)): 0.32\n",
            "Saving fake_images-0059.png\n",
            "Epoch [59/100], Step [200/600], d_loss: 0.9874, g_loss: 1.5580, D(x): 0.67, D(G(z)): 0.27\n",
            "Epoch [59/100], Step [400/600], d_loss: 0.7504, g_loss: 1.6165, D(x): 0.75, D(G(z)): 0.26\n",
            "Epoch [59/100], Step [600/600], d_loss: 0.9172, g_loss: 1.2661, D(x): 0.74, D(G(z)): 0.35\n",
            "Saving fake_images-0060.png\n",
            "Epoch [60/100], Step [200/600], d_loss: 0.9100, g_loss: 1.3595, D(x): 0.73, D(G(z)): 0.31\n",
            "Epoch [60/100], Step [400/600], d_loss: 0.6229, g_loss: 1.9861, D(x): 0.79, D(G(z)): 0.24\n",
            "Epoch [60/100], Step [600/600], d_loss: 0.7303, g_loss: 1.9712, D(x): 0.76, D(G(z)): 0.26\n",
            "Saving fake_images-0061.png\n",
            "Epoch [61/100], Step [200/600], d_loss: 1.0057, g_loss: 1.6019, D(x): 0.67, D(G(z)): 0.31\n",
            "Epoch [61/100], Step [400/600], d_loss: 0.9414, g_loss: 1.6803, D(x): 0.75, D(G(z)): 0.36\n",
            "Epoch [61/100], Step [600/600], d_loss: 1.0629, g_loss: 1.3663, D(x): 0.68, D(G(z)): 0.37\n",
            "Saving fake_images-0062.png\n",
            "Epoch [62/100], Step [200/600], d_loss: 0.7404, g_loss: 1.4875, D(x): 0.81, D(G(z)): 0.31\n",
            "Epoch [62/100], Step [400/600], d_loss: 0.8805, g_loss: 1.5843, D(x): 0.67, D(G(z)): 0.28\n",
            "Epoch [62/100], Step [600/600], d_loss: 0.7449, g_loss: 1.7539, D(x): 0.73, D(G(z)): 0.24\n",
            "Saving fake_images-0063.png\n",
            "Epoch [63/100], Step [200/600], d_loss: 0.8136, g_loss: 1.5419, D(x): 0.76, D(G(z)): 0.33\n",
            "Epoch [63/100], Step [400/600], d_loss: 0.8530, g_loss: 1.5875, D(x): 0.71, D(G(z)): 0.28\n",
            "Epoch [63/100], Step [600/600], d_loss: 0.8246, g_loss: 2.0797, D(x): 0.69, D(G(z)): 0.21\n",
            "Saving fake_images-0064.png\n",
            "Epoch [64/100], Step [200/600], d_loss: 1.0862, g_loss: 1.3552, D(x): 0.69, D(G(z)): 0.37\n",
            "Epoch [64/100], Step [400/600], d_loss: 0.8943, g_loss: 1.7765, D(x): 0.69, D(G(z)): 0.26\n",
            "Epoch [64/100], Step [600/600], d_loss: 0.7231, g_loss: 1.5294, D(x): 0.76, D(G(z)): 0.27\n",
            "Saving fake_images-0065.png\n",
            "Epoch [65/100], Step [200/600], d_loss: 1.0128, g_loss: 1.8354, D(x): 0.70, D(G(z)): 0.34\n",
            "Epoch [65/100], Step [400/600], d_loss: 0.9447, g_loss: 1.5074, D(x): 0.68, D(G(z)): 0.30\n",
            "Epoch [65/100], Step [600/600], d_loss: 0.8664, g_loss: 1.6134, D(x): 0.73, D(G(z)): 0.30\n",
            "Saving fake_images-0066.png\n",
            "Epoch [66/100], Step [200/600], d_loss: 0.9144, g_loss: 1.6267, D(x): 0.71, D(G(z)): 0.30\n",
            "Epoch [66/100], Step [400/600], d_loss: 0.9112, g_loss: 1.9478, D(x): 0.67, D(G(z)): 0.26\n",
            "Epoch [66/100], Step [600/600], d_loss: 0.8083, g_loss: 1.8294, D(x): 0.78, D(G(z)): 0.33\n",
            "Saving fake_images-0067.png\n",
            "Epoch [67/100], Step [200/600], d_loss: 0.8218, g_loss: 1.5921, D(x): 0.74, D(G(z)): 0.30\n",
            "Epoch [67/100], Step [400/600], d_loss: 0.8969, g_loss: 1.5746, D(x): 0.64, D(G(z)): 0.22\n",
            "Epoch [67/100], Step [600/600], d_loss: 0.9258, g_loss: 1.9227, D(x): 0.61, D(G(z)): 0.18\n",
            "Saving fake_images-0068.png\n",
            "Epoch [68/100], Step [200/600], d_loss: 0.8738, g_loss: 1.4690, D(x): 0.71, D(G(z)): 0.31\n",
            "Epoch [68/100], Step [400/600], d_loss: 0.9161, g_loss: 1.4849, D(x): 0.72, D(G(z)): 0.31\n",
            "Epoch [68/100], Step [600/600], d_loss: 0.9878, g_loss: 1.5017, D(x): 0.73, D(G(z)): 0.36\n",
            "Saving fake_images-0069.png\n",
            "Epoch [69/100], Step [200/600], d_loss: 0.9098, g_loss: 1.7436, D(x): 0.69, D(G(z)): 0.27\n",
            "Epoch [69/100], Step [400/600], d_loss: 1.0034, g_loss: 1.6880, D(x): 0.73, D(G(z)): 0.38\n",
            "Epoch [69/100], Step [600/600], d_loss: 0.7502, g_loss: 1.9945, D(x): 0.71, D(G(z)): 0.24\n",
            "Saving fake_images-0070.png\n",
            "Epoch [70/100], Step [200/600], d_loss: 0.8615, g_loss: 1.8087, D(x): 0.70, D(G(z)): 0.23\n",
            "Epoch [70/100], Step [400/600], d_loss: 0.8143, g_loss: 1.5868, D(x): 0.73, D(G(z)): 0.28\n",
            "Epoch [70/100], Step [600/600], d_loss: 0.8002, g_loss: 1.5853, D(x): 0.72, D(G(z)): 0.27\n",
            "Saving fake_images-0071.png\n",
            "Epoch [71/100], Step [200/600], d_loss: 1.1227, g_loss: 1.6779, D(x): 0.67, D(G(z)): 0.35\n",
            "Epoch [71/100], Step [400/600], d_loss: 1.1268, g_loss: 1.7327, D(x): 0.56, D(G(z)): 0.23\n",
            "Epoch [71/100], Step [600/600], d_loss: 0.8008, g_loss: 1.8263, D(x): 0.72, D(G(z)): 0.28\n",
            "Saving fake_images-0072.png\n",
            "Epoch [72/100], Step [200/600], d_loss: 0.8842, g_loss: 1.4778, D(x): 0.69, D(G(z)): 0.27\n",
            "Epoch [72/100], Step [400/600], d_loss: 0.8900, g_loss: 1.8466, D(x): 0.68, D(G(z)): 0.27\n",
            "Epoch [72/100], Step [600/600], d_loss: 0.9491, g_loss: 1.4427, D(x): 0.70, D(G(z)): 0.31\n",
            "Saving fake_images-0073.png\n",
            "Epoch [73/100], Step [200/600], d_loss: 0.9721, g_loss: 1.6615, D(x): 0.64, D(G(z)): 0.24\n",
            "Epoch [73/100], Step [400/600], d_loss: 0.6849, g_loss: 1.6911, D(x): 0.85, D(G(z)): 0.32\n",
            "Epoch [73/100], Step [600/600], d_loss: 0.7063, g_loss: 2.1131, D(x): 0.74, D(G(z)): 0.24\n",
            "Saving fake_images-0074.png\n",
            "Epoch [74/100], Step [200/600], d_loss: 0.9223, g_loss: 1.6536, D(x): 0.62, D(G(z)): 0.24\n",
            "Epoch [74/100], Step [400/600], d_loss: 1.0308, g_loss: 1.9367, D(x): 0.56, D(G(z)): 0.21\n",
            "Epoch [74/100], Step [600/600], d_loss: 0.9063, g_loss: 1.7243, D(x): 0.67, D(G(z)): 0.28\n",
            "Saving fake_images-0075.png\n",
            "Epoch [75/100], Step [200/600], d_loss: 0.8358, g_loss: 1.6534, D(x): 0.75, D(G(z)): 0.33\n",
            "Epoch [75/100], Step [400/600], d_loss: 0.9712, g_loss: 1.3990, D(x): 0.76, D(G(z)): 0.38\n",
            "Epoch [75/100], Step [600/600], d_loss: 1.0301, g_loss: 1.6025, D(x): 0.63, D(G(z)): 0.30\n",
            "Saving fake_images-0076.png\n",
            "Epoch [76/100], Step [200/600], d_loss: 0.9741, g_loss: 2.0034, D(x): 0.63, D(G(z)): 0.25\n",
            "Epoch [76/100], Step [400/600], d_loss: 0.6598, g_loss: 1.8383, D(x): 0.74, D(G(z)): 0.22\n",
            "Epoch [76/100], Step [600/600], d_loss: 1.0893, g_loss: 1.0618, D(x): 0.63, D(G(z)): 0.32\n",
            "Saving fake_images-0077.png\n",
            "Epoch [77/100], Step [200/600], d_loss: 1.0586, g_loss: 1.0215, D(x): 0.68, D(G(z)): 0.35\n",
            "Epoch [77/100], Step [400/600], d_loss: 1.1093, g_loss: 1.7587, D(x): 0.58, D(G(z)): 0.24\n",
            "Epoch [77/100], Step [600/600], d_loss: 0.8000, g_loss: 2.0229, D(x): 0.75, D(G(z)): 0.32\n",
            "Saving fake_images-0078.png\n",
            "Epoch [78/100], Step [200/600], d_loss: 1.1226, g_loss: 1.2655, D(x): 0.68, D(G(z)): 0.38\n",
            "Epoch [78/100], Step [400/600], d_loss: 0.9417, g_loss: 1.6808, D(x): 0.62, D(G(z)): 0.21\n",
            "Epoch [78/100], Step [600/600], d_loss: 0.9370, g_loss: 1.5994, D(x): 0.74, D(G(z)): 0.35\n",
            "Saving fake_images-0079.png\n",
            "Epoch [79/100], Step [200/600], d_loss: 1.0947, g_loss: 1.3932, D(x): 0.67, D(G(z)): 0.39\n",
            "Epoch [79/100], Step [400/600], d_loss: 0.9747, g_loss: 1.5436, D(x): 0.68, D(G(z)): 0.30\n",
            "Epoch [79/100], Step [600/600], d_loss: 0.9566, g_loss: 1.8691, D(x): 0.67, D(G(z)): 0.30\n",
            "Saving fake_images-0080.png\n",
            "Epoch [80/100], Step [200/600], d_loss: 0.9033, g_loss: 1.5155, D(x): 0.70, D(G(z)): 0.32\n",
            "Epoch [80/100], Step [400/600], d_loss: 0.9469, g_loss: 1.5423, D(x): 0.77, D(G(z)): 0.37\n",
            "Epoch [80/100], Step [600/600], d_loss: 0.9055, g_loss: 1.5346, D(x): 0.73, D(G(z)): 0.32\n",
            "Saving fake_images-0081.png\n",
            "Epoch [81/100], Step [200/600], d_loss: 0.7962, g_loss: 1.7887, D(x): 0.76, D(G(z)): 0.32\n",
            "Epoch [81/100], Step [400/600], d_loss: 0.9223, g_loss: 1.4493, D(x): 0.71, D(G(z)): 0.29\n",
            "Epoch [81/100], Step [600/600], d_loss: 0.8630, g_loss: 1.5480, D(x): 0.72, D(G(z)): 0.33\n",
            "Saving fake_images-0082.png\n",
            "Epoch [82/100], Step [200/600], d_loss: 1.0309, g_loss: 1.4702, D(x): 0.64, D(G(z)): 0.30\n",
            "Epoch [82/100], Step [400/600], d_loss: 1.0170, g_loss: 1.3307, D(x): 0.69, D(G(z)): 0.34\n",
            "Epoch [82/100], Step [600/600], d_loss: 0.9332, g_loss: 1.3506, D(x): 0.69, D(G(z)): 0.30\n",
            "Saving fake_images-0083.png\n",
            "Epoch [83/100], Step [200/600], d_loss: 0.7992, g_loss: 1.4824, D(x): 0.79, D(G(z)): 0.32\n",
            "Epoch [83/100], Step [400/600], d_loss: 0.8802, g_loss: 2.0110, D(x): 0.72, D(G(z)): 0.29\n",
            "Epoch [83/100], Step [600/600], d_loss: 0.7143, g_loss: 1.4480, D(x): 0.81, D(G(z)): 0.32\n",
            "Saving fake_images-0084.png\n",
            "Epoch [84/100], Step [200/600], d_loss: 0.9819, g_loss: 1.5079, D(x): 0.69, D(G(z)): 0.30\n",
            "Epoch [84/100], Step [400/600], d_loss: 0.8879, g_loss: 1.5868, D(x): 0.72, D(G(z)): 0.31\n",
            "Epoch [84/100], Step [600/600], d_loss: 1.2386, g_loss: 1.2161, D(x): 0.69, D(G(z)): 0.43\n",
            "Saving fake_images-0085.png\n",
            "Epoch [85/100], Step [200/600], d_loss: 0.9015, g_loss: 1.5056, D(x): 0.67, D(G(z)): 0.28\n",
            "Epoch [85/100], Step [400/600], d_loss: 0.8474, g_loss: 1.6290, D(x): 0.74, D(G(z)): 0.31\n",
            "Epoch [85/100], Step [600/600], d_loss: 0.9698, g_loss: 1.8589, D(x): 0.60, D(G(z)): 0.24\n",
            "Saving fake_images-0086.png\n",
            "Epoch [86/100], Step [200/600], d_loss: 0.9516, g_loss: 2.3811, D(x): 0.69, D(G(z)): 0.28\n",
            "Epoch [86/100], Step [400/600], d_loss: 0.6676, g_loss: 1.6437, D(x): 0.75, D(G(z)): 0.23\n",
            "Epoch [86/100], Step [600/600], d_loss: 1.0014, g_loss: 1.2534, D(x): 0.67, D(G(z)): 0.34\n",
            "Saving fake_images-0087.png\n",
            "Epoch [87/100], Step [200/600], d_loss: 0.9376, g_loss: 1.4098, D(x): 0.68, D(G(z)): 0.29\n",
            "Epoch [87/100], Step [400/600], d_loss: 0.7950, g_loss: 1.9837, D(x): 0.73, D(G(z)): 0.26\n",
            "Epoch [87/100], Step [600/600], d_loss: 1.0410, g_loss: 1.2871, D(x): 0.62, D(G(z)): 0.30\n",
            "Saving fake_images-0088.png\n",
            "Epoch [88/100], Step [200/600], d_loss: 1.1211, g_loss: 1.3938, D(x): 0.66, D(G(z)): 0.33\n",
            "Epoch [88/100], Step [400/600], d_loss: 1.0534, g_loss: 1.4570, D(x): 0.70, D(G(z)): 0.38\n",
            "Epoch [88/100], Step [600/600], d_loss: 0.8838, g_loss: 1.7353, D(x): 0.75, D(G(z)): 0.34\n",
            "Saving fake_images-0089.png\n",
            "Epoch [89/100], Step [200/600], d_loss: 0.9177, g_loss: 1.7168, D(x): 0.69, D(G(z)): 0.28\n",
            "Epoch [89/100], Step [400/600], d_loss: 0.8311, g_loss: 1.5282, D(x): 0.76, D(G(z)): 0.31\n",
            "Epoch [89/100], Step [600/600], d_loss: 1.1690, g_loss: 1.3171, D(x): 0.66, D(G(z)): 0.38\n",
            "Saving fake_images-0090.png\n",
            "Epoch [90/100], Step [200/600], d_loss: 0.9409, g_loss: 1.4156, D(x): 0.70, D(G(z)): 0.33\n",
            "Epoch [90/100], Step [400/600], d_loss: 0.8773, g_loss: 1.9373, D(x): 0.78, D(G(z)): 0.36\n",
            "Epoch [90/100], Step [600/600], d_loss: 1.0533, g_loss: 1.3619, D(x): 0.62, D(G(z)): 0.28\n",
            "Saving fake_images-0091.png\n",
            "Epoch [91/100], Step [200/600], d_loss: 0.7280, g_loss: 1.7615, D(x): 0.72, D(G(z)): 0.26\n",
            "Epoch [91/100], Step [400/600], d_loss: 0.8380, g_loss: 1.7499, D(x): 0.72, D(G(z)): 0.28\n",
            "Epoch [91/100], Step [600/600], d_loss: 0.7608, g_loss: 1.6616, D(x): 0.72, D(G(z)): 0.27\n",
            "Saving fake_images-0092.png\n",
            "Epoch [92/100], Step [200/600], d_loss: 0.9747, g_loss: 1.5322, D(x): 0.79, D(G(z)): 0.41\n",
            "Epoch [92/100], Step [400/600], d_loss: 1.0809, g_loss: 1.4686, D(x): 0.68, D(G(z)): 0.38\n",
            "Epoch [92/100], Step [600/600], d_loss: 0.9267, g_loss: 1.6352, D(x): 0.69, D(G(z)): 0.32\n",
            "Saving fake_images-0093.png\n",
            "Epoch [93/100], Step [200/600], d_loss: 0.9159, g_loss: 1.4844, D(x): 0.65, D(G(z)): 0.28\n",
            "Epoch [93/100], Step [400/600], d_loss: 1.1262, g_loss: 1.3565, D(x): 0.75, D(G(z)): 0.42\n",
            "Epoch [93/100], Step [600/600], d_loss: 0.9735, g_loss: 1.5705, D(x): 0.73, D(G(z)): 0.38\n",
            "Saving fake_images-0094.png\n",
            "Epoch [94/100], Step [200/600], d_loss: 0.8920, g_loss: 1.4378, D(x): 0.72, D(G(z)): 0.31\n",
            "Epoch [94/100], Step [400/600], d_loss: 0.9537, g_loss: 1.3428, D(x): 0.65, D(G(z)): 0.29\n",
            "Epoch [94/100], Step [600/600], d_loss: 1.0972, g_loss: 1.5083, D(x): 0.67, D(G(z)): 0.37\n",
            "Saving fake_images-0095.png\n",
            "Epoch [95/100], Step [200/600], d_loss: 0.8958, g_loss: 1.4819, D(x): 0.71, D(G(z)): 0.29\n",
            "Epoch [95/100], Step [400/600], d_loss: 0.9499, g_loss: 1.4275, D(x): 0.73, D(G(z)): 0.40\n",
            "Epoch [95/100], Step [600/600], d_loss: 1.2105, g_loss: 1.5382, D(x): 0.55, D(G(z)): 0.27\n",
            "Saving fake_images-0096.png\n",
            "Epoch [96/100], Step [200/600], d_loss: 0.9380, g_loss: 1.5198, D(x): 0.76, D(G(z)): 0.38\n",
            "Epoch [96/100], Step [400/600], d_loss: 0.9106, g_loss: 1.4540, D(x): 0.79, D(G(z)): 0.39\n",
            "Epoch [96/100], Step [600/600], d_loss: 1.1763, g_loss: 1.7834, D(x): 0.56, D(G(z)): 0.23\n",
            "Saving fake_images-0097.png\n",
            "Epoch [97/100], Step [200/600], d_loss: 0.9648, g_loss: 1.7570, D(x): 0.70, D(G(z)): 0.32\n",
            "Epoch [97/100], Step [400/600], d_loss: 0.8912, g_loss: 2.2032, D(x): 0.70, D(G(z)): 0.29\n",
            "Epoch [97/100], Step [600/600], d_loss: 0.8291, g_loss: 1.7969, D(x): 0.70, D(G(z)): 0.26\n",
            "Saving fake_images-0098.png\n",
            "Epoch [98/100], Step [200/600], d_loss: 0.9516, g_loss: 1.3803, D(x): 0.73, D(G(z)): 0.35\n",
            "Epoch [98/100], Step [400/600], d_loss: 0.8743, g_loss: 1.7376, D(x): 0.70, D(G(z)): 0.29\n",
            "Epoch [98/100], Step [600/600], d_loss: 1.0016, g_loss: 1.4038, D(x): 0.67, D(G(z)): 0.31\n",
            "Saving fake_images-0099.png\n",
            "Epoch [99/100], Step [200/600], d_loss: 0.9864, g_loss: 1.5271, D(x): 0.73, D(G(z)): 0.35\n",
            "Epoch [99/100], Step [400/600], d_loss: 0.9319, g_loss: 1.3946, D(x): 0.70, D(G(z)): 0.31\n",
            "Epoch [99/100], Step [600/600], d_loss: 1.1705, g_loss: 1.6187, D(x): 0.59, D(G(z)): 0.27\n",
            "Saving fake_images-0100.png\n",
            "CPU times: user 19min 28s, sys: 10.2 s, total: 19min 38s\n",
            "Wall time: 19min 39s\n"
          ]
        }
      ],
      "source": [
        "%%time\n",
        "\n",
        "num_epochs = 100\n",
        "total_step = len(data_loader)\n",
        "d_losses, g_losses, real_scores, fake_scores = [], [], [], []\n",
        "\n",
        "for epoch in range(num_epochs):\n",
        "    for i, (images, _) in enumerate(data_loader):\n",
        "        # Load a batch & transform to vectors\n",
        "        images = images.reshape(batch_size, -1).to(device)\n",
        "        \n",
        "        # Train the discriminator and generator\n",
        "        d_loss, real_score, fake_score = train_discriminator(images)\n",
        "        g_loss, fake_images = train_generator()\n",
        "        \n",
        "        # Inspect the losses\n",
        "        if (i+1) % 200 == 0:\n",
        "            d_losses.append(d_loss.item())\n",
        "            g_losses.append(g_loss.item())\n",
        "            real_scores.append(real_score.mean().item())\n",
        "            fake_scores.append(fake_score.mean().item())\n",
        "            print('Epoch [{}/{}], Step [{}/{}], d_loss: {:.4f}, g_loss: {:.4f}, D(x): {:.2f}, D(G(z)): {:.2f}' \n",
        "                  .format(epoch, num_epochs, i+1, total_step, d_loss.item(), g_loss.item(), \n",
        "                          real_score.mean().item(), fake_score.mean().item()))\n",
        "        \n",
        "    # Sample and save images\n",
        "    save_fake_images(epoch+1)"
      ]
    },
    {
      "cell_type": "markdown",
      "metadata": {
        "id": "yV9g7432bmBI"
      },
      "source": [
        "### #Train the Generator to 100 epochs .\n",
        "\n",
        "### #And make a video of all the pics"
      ]
    },
    {
      "cell_type": "code",
      "execution_count": null,
      "metadata": {
        "id": "qhJPDwT-bNW0"
      },
      "outputs": [],
      "source": [
        "import cv2\n",
        "import os\n",
        "\n",
        "vid_fname = 'gans_MNIST_training.mp4'\n",
        "\n",
        "files = [os.path.join(sample.dir, f) for f in os.listdir(sample_dir) if 'samples' in f]\n",
        "files.sort()\n",
        "\n",
        "out = cv2.VideoWriter(vid_fname,cv2.VideoWriter_fourcc(*'MP4V'), 1, (530,530))\n",
        "[out.write(cv2.imread(fname)) for fname in files]\n",
        "out.release()"
      ]
    },
    {
      "cell_type": "code",
      "execution_count": null,
      "metadata": {
        "id": "gDu_PjSpbNU2"
      },
      "outputs": [],
      "source": [
        ""
      ]
    },
    {
      "cell_type": "code",
      "execution_count": null,
      "metadata": {
        "id": "OGXRFaISbNSc"
      },
      "outputs": [],
      "source": [
        ""
      ]
    },
    {
      "cell_type": "code",
      "execution_count": null,
      "metadata": {
        "id": "i6UHcOzba9gC"
      },
      "outputs": [],
      "source": [
        ""
      ]
    }
  ],
  "metadata": {
    "accelerator": "GPU",
    "colab": {
      "name": "MNISTGAN.ipynb",
      "provenance": [],
      "toc_visible": true
    },
    "kernelspec": {
      "display_name": "Python 3",
      "name": "python3"
    },
    "language_info": {
      "name": "python"
    },
    "widgets": {
      "application/vnd.jupyter.widget-state+json": {
        "295f24cd8239447b9a9a17378ef18001": {
          "model_module": "@jupyter-widgets/controls",
          "model_name": "HBoxModel",
          "model_module_version": "1.5.0",
          "state": {
            "_dom_classes": [],
            "_model_module": "@jupyter-widgets/controls",
            "_model_module_version": "1.5.0",
            "_model_name": "HBoxModel",
            "_view_count": null,
            "_view_module": "@jupyter-widgets/controls",
            "_view_module_version": "1.5.0",
            "_view_name": "HBoxView",
            "box_style": "",
            "children": [
              "IPY_MODEL_e7a1383dbc354b49b2e4d4da09604a99",
              "IPY_MODEL_3e2870e662b9441da8b20555892624a2",
              "IPY_MODEL_5126b9d321804a87924d18292f90f84e"
            ],
            "layout": "IPY_MODEL_defa6a7385c94409ba15c3d9063988e0"
          }
        },
        "e7a1383dbc354b49b2e4d4da09604a99": {
          "model_module": "@jupyter-widgets/controls",
          "model_name": "HTMLModel",
          "model_module_version": "1.5.0",
          "state": {
            "_dom_classes": [],
            "_model_module": "@jupyter-widgets/controls",
            "_model_module_version": "1.5.0",
            "_model_name": "HTMLModel",
            "_view_count": null,
            "_view_module": "@jupyter-widgets/controls",
            "_view_module_version": "1.5.0",
            "_view_name": "HTMLView",
            "description": "",
            "description_tooltip": null,
            "layout": "IPY_MODEL_3bf63f41d1ec41dd9bfdd6f61ea687e5",
            "placeholder": "​",
            "style": "IPY_MODEL_94eb7463332e4898b16c0b65a2efa155",
            "value": ""
          }
        },
        "3e2870e662b9441da8b20555892624a2": {
          "model_module": "@jupyter-widgets/controls",
          "model_name": "FloatProgressModel",
          "model_module_version": "1.5.0",
          "state": {
            "_dom_classes": [],
            "_model_module": "@jupyter-widgets/controls",
            "_model_module_version": "1.5.0",
            "_model_name": "FloatProgressModel",
            "_view_count": null,
            "_view_module": "@jupyter-widgets/controls",
            "_view_module_version": "1.5.0",
            "_view_name": "ProgressView",
            "bar_style": "success",
            "description": "",
            "description_tooltip": null,
            "layout": "IPY_MODEL_b2dcef2481b5462192e5f84b2e69c0ba",
            "max": 9912422,
            "min": 0,
            "orientation": "horizontal",
            "style": "IPY_MODEL_32e0541c04ef4d6f85bff7ba00705e64",
            "value": 9912422
          }
        },
        "5126b9d321804a87924d18292f90f84e": {
          "model_module": "@jupyter-widgets/controls",
          "model_name": "HTMLModel",
          "model_module_version": "1.5.0",
          "state": {
            "_dom_classes": [],
            "_model_module": "@jupyter-widgets/controls",
            "_model_module_version": "1.5.0",
            "_model_name": "HTMLModel",
            "_view_count": null,
            "_view_module": "@jupyter-widgets/controls",
            "_view_module_version": "1.5.0",
            "_view_name": "HTMLView",
            "description": "",
            "description_tooltip": null,
            "layout": "IPY_MODEL_5c34b581b1f34ab38870fd6e4b611993",
            "placeholder": "​",
            "style": "IPY_MODEL_c09bd602ba8e451d9c6aeff46e89da88",
            "value": " 9913344/? [00:00&lt;00:00, 62054163.28it/s]"
          }
        },
        "defa6a7385c94409ba15c3d9063988e0": {
          "model_module": "@jupyter-widgets/base",
          "model_name": "LayoutModel",
          "model_module_version": "1.2.0",
          "state": {
            "_model_module": "@jupyter-widgets/base",
            "_model_module_version": "1.2.0",
            "_model_name": "LayoutModel",
            "_view_count": null,
            "_view_module": "@jupyter-widgets/base",
            "_view_module_version": "1.2.0",
            "_view_name": "LayoutView",
            "align_content": null,
            "align_items": null,
            "align_self": null,
            "border": null,
            "bottom": null,
            "display": null,
            "flex": null,
            "flex_flow": null,
            "grid_area": null,
            "grid_auto_columns": null,
            "grid_auto_flow": null,
            "grid_auto_rows": null,
            "grid_column": null,
            "grid_gap": null,
            "grid_row": null,
            "grid_template_areas": null,
            "grid_template_columns": null,
            "grid_template_rows": null,
            "height": null,
            "justify_content": null,
            "justify_items": null,
            "left": null,
            "margin": null,
            "max_height": null,
            "max_width": null,
            "min_height": null,
            "min_width": null,
            "object_fit": null,
            "object_position": null,
            "order": null,
            "overflow": null,
            "overflow_x": null,
            "overflow_y": null,
            "padding": null,
            "right": null,
            "top": null,
            "visibility": null,
            "width": null
          }
        },
        "3bf63f41d1ec41dd9bfdd6f61ea687e5": {
          "model_module": "@jupyter-widgets/base",
          "model_name": "LayoutModel",
          "model_module_version": "1.2.0",
          "state": {
            "_model_module": "@jupyter-widgets/base",
            "_model_module_version": "1.2.0",
            "_model_name": "LayoutModel",
            "_view_count": null,
            "_view_module": "@jupyter-widgets/base",
            "_view_module_version": "1.2.0",
            "_view_name": "LayoutView",
            "align_content": null,
            "align_items": null,
            "align_self": null,
            "border": null,
            "bottom": null,
            "display": null,
            "flex": null,
            "flex_flow": null,
            "grid_area": null,
            "grid_auto_columns": null,
            "grid_auto_flow": null,
            "grid_auto_rows": null,
            "grid_column": null,
            "grid_gap": null,
            "grid_row": null,
            "grid_template_areas": null,
            "grid_template_columns": null,
            "grid_template_rows": null,
            "height": null,
            "justify_content": null,
            "justify_items": null,
            "left": null,
            "margin": null,
            "max_height": null,
            "max_width": null,
            "min_height": null,
            "min_width": null,
            "object_fit": null,
            "object_position": null,
            "order": null,
            "overflow": null,
            "overflow_x": null,
            "overflow_y": null,
            "padding": null,
            "right": null,
            "top": null,
            "visibility": null,
            "width": null
          }
        },
        "94eb7463332e4898b16c0b65a2efa155": {
          "model_module": "@jupyter-widgets/controls",
          "model_name": "DescriptionStyleModel",
          "model_module_version": "1.5.0",
          "state": {
            "_model_module": "@jupyter-widgets/controls",
            "_model_module_version": "1.5.0",
            "_model_name": "DescriptionStyleModel",
            "_view_count": null,
            "_view_module": "@jupyter-widgets/base",
            "_view_module_version": "1.2.0",
            "_view_name": "StyleView",
            "description_width": ""
          }
        },
        "b2dcef2481b5462192e5f84b2e69c0ba": {
          "model_module": "@jupyter-widgets/base",
          "model_name": "LayoutModel",
          "model_module_version": "1.2.0",
          "state": {
            "_model_module": "@jupyter-widgets/base",
            "_model_module_version": "1.2.0",
            "_model_name": "LayoutModel",
            "_view_count": null,
            "_view_module": "@jupyter-widgets/base",
            "_view_module_version": "1.2.0",
            "_view_name": "LayoutView",
            "align_content": null,
            "align_items": null,
            "align_self": null,
            "border": null,
            "bottom": null,
            "display": null,
            "flex": null,
            "flex_flow": null,
            "grid_area": null,
            "grid_auto_columns": null,
            "grid_auto_flow": null,
            "grid_auto_rows": null,
            "grid_column": null,
            "grid_gap": null,
            "grid_row": null,
            "grid_template_areas": null,
            "grid_template_columns": null,
            "grid_template_rows": null,
            "height": null,
            "justify_content": null,
            "justify_items": null,
            "left": null,
            "margin": null,
            "max_height": null,
            "max_width": null,
            "min_height": null,
            "min_width": null,
            "object_fit": null,
            "object_position": null,
            "order": null,
            "overflow": null,
            "overflow_x": null,
            "overflow_y": null,
            "padding": null,
            "right": null,
            "top": null,
            "visibility": null,
            "width": null
          }
        },
        "32e0541c04ef4d6f85bff7ba00705e64": {
          "model_module": "@jupyter-widgets/controls",
          "model_name": "ProgressStyleModel",
          "model_module_version": "1.5.0",
          "state": {
            "_model_module": "@jupyter-widgets/controls",
            "_model_module_version": "1.5.0",
            "_model_name": "ProgressStyleModel",
            "_view_count": null,
            "_view_module": "@jupyter-widgets/base",
            "_view_module_version": "1.2.0",
            "_view_name": "StyleView",
            "bar_color": null,
            "description_width": ""
          }
        },
        "5c34b581b1f34ab38870fd6e4b611993": {
          "model_module": "@jupyter-widgets/base",
          "model_name": "LayoutModel",
          "model_module_version": "1.2.0",
          "state": {
            "_model_module": "@jupyter-widgets/base",
            "_model_module_version": "1.2.0",
            "_model_name": "LayoutModel",
            "_view_count": null,
            "_view_module": "@jupyter-widgets/base",
            "_view_module_version": "1.2.0",
            "_view_name": "LayoutView",
            "align_content": null,
            "align_items": null,
            "align_self": null,
            "border": null,
            "bottom": null,
            "display": null,
            "flex": null,
            "flex_flow": null,
            "grid_area": null,
            "grid_auto_columns": null,
            "grid_auto_flow": null,
            "grid_auto_rows": null,
            "grid_column": null,
            "grid_gap": null,
            "grid_row": null,
            "grid_template_areas": null,
            "grid_template_columns": null,
            "grid_template_rows": null,
            "height": null,
            "justify_content": null,
            "justify_items": null,
            "left": null,
            "margin": null,
            "max_height": null,
            "max_width": null,
            "min_height": null,
            "min_width": null,
            "object_fit": null,
            "object_position": null,
            "order": null,
            "overflow": null,
            "overflow_x": null,
            "overflow_y": null,
            "padding": null,
            "right": null,
            "top": null,
            "visibility": null,
            "width": null
          }
        },
        "c09bd602ba8e451d9c6aeff46e89da88": {
          "model_module": "@jupyter-widgets/controls",
          "model_name": "DescriptionStyleModel",
          "model_module_version": "1.5.0",
          "state": {
            "_model_module": "@jupyter-widgets/controls",
            "_model_module_version": "1.5.0",
            "_model_name": "DescriptionStyleModel",
            "_view_count": null,
            "_view_module": "@jupyter-widgets/base",
            "_view_module_version": "1.2.0",
            "_view_name": "StyleView",
            "description_width": ""
          }
        },
        "9191e53006e043b2ac192459011eb253": {
          "model_module": "@jupyter-widgets/controls",
          "model_name": "HBoxModel",
          "model_module_version": "1.5.0",
          "state": {
            "_dom_classes": [],
            "_model_module": "@jupyter-widgets/controls",
            "_model_module_version": "1.5.0",
            "_model_name": "HBoxModel",
            "_view_count": null,
            "_view_module": "@jupyter-widgets/controls",
            "_view_module_version": "1.5.0",
            "_view_name": "HBoxView",
            "box_style": "",
            "children": [
              "IPY_MODEL_a1547610b46e415ba7bdcf0fb29978cd",
              "IPY_MODEL_9c960acd45494e34b13044d5ea14411e",
              "IPY_MODEL_08ed6bfcf40547599ebb5c81daaaf0d1"
            ],
            "layout": "IPY_MODEL_ffdd82832bcb429da4bbdb0e79b25aeb"
          }
        },
        "a1547610b46e415ba7bdcf0fb29978cd": {
          "model_module": "@jupyter-widgets/controls",
          "model_name": "HTMLModel",
          "model_module_version": "1.5.0",
          "state": {
            "_dom_classes": [],
            "_model_module": "@jupyter-widgets/controls",
            "_model_module_version": "1.5.0",
            "_model_name": "HTMLModel",
            "_view_count": null,
            "_view_module": "@jupyter-widgets/controls",
            "_view_module_version": "1.5.0",
            "_view_name": "HTMLView",
            "description": "",
            "description_tooltip": null,
            "layout": "IPY_MODEL_ac49b12bf23044209282f5bca238b698",
            "placeholder": "​",
            "style": "IPY_MODEL_f72e16f277564f359d3a925281d4a75b",
            "value": ""
          }
        },
        "9c960acd45494e34b13044d5ea14411e": {
          "model_module": "@jupyter-widgets/controls",
          "model_name": "FloatProgressModel",
          "model_module_version": "1.5.0",
          "state": {
            "_dom_classes": [],
            "_model_module": "@jupyter-widgets/controls",
            "_model_module_version": "1.5.0",
            "_model_name": "FloatProgressModel",
            "_view_count": null,
            "_view_module": "@jupyter-widgets/controls",
            "_view_module_version": "1.5.0",
            "_view_name": "ProgressView",
            "bar_style": "success",
            "description": "",
            "description_tooltip": null,
            "layout": "IPY_MODEL_e05b9da1cd4a4f53886e7d2e4f66997a",
            "max": 28881,
            "min": 0,
            "orientation": "horizontal",
            "style": "IPY_MODEL_1b4ca6a5a15a4ca884fe66521f99135b",
            "value": 28881
          }
        },
        "08ed6bfcf40547599ebb5c81daaaf0d1": {
          "model_module": "@jupyter-widgets/controls",
          "model_name": "HTMLModel",
          "model_module_version": "1.5.0",
          "state": {
            "_dom_classes": [],
            "_model_module": "@jupyter-widgets/controls",
            "_model_module_version": "1.5.0",
            "_model_name": "HTMLModel",
            "_view_count": null,
            "_view_module": "@jupyter-widgets/controls",
            "_view_module_version": "1.5.0",
            "_view_name": "HTMLView",
            "description": "",
            "description_tooltip": null,
            "layout": "IPY_MODEL_b994a7cb9e4741919da1f0624381d1e3",
            "placeholder": "​",
            "style": "IPY_MODEL_4505235c1b4b466993fd5f0b4b12adef",
            "value": " 29696/? [00:00&lt;00:00, 853291.12it/s]"
          }
        },
        "ffdd82832bcb429da4bbdb0e79b25aeb": {
          "model_module": "@jupyter-widgets/base",
          "model_name": "LayoutModel",
          "model_module_version": "1.2.0",
          "state": {
            "_model_module": "@jupyter-widgets/base",
            "_model_module_version": "1.2.0",
            "_model_name": "LayoutModel",
            "_view_count": null,
            "_view_module": "@jupyter-widgets/base",
            "_view_module_version": "1.2.0",
            "_view_name": "LayoutView",
            "align_content": null,
            "align_items": null,
            "align_self": null,
            "border": null,
            "bottom": null,
            "display": null,
            "flex": null,
            "flex_flow": null,
            "grid_area": null,
            "grid_auto_columns": null,
            "grid_auto_flow": null,
            "grid_auto_rows": null,
            "grid_column": null,
            "grid_gap": null,
            "grid_row": null,
            "grid_template_areas": null,
            "grid_template_columns": null,
            "grid_template_rows": null,
            "height": null,
            "justify_content": null,
            "justify_items": null,
            "left": null,
            "margin": null,
            "max_height": null,
            "max_width": null,
            "min_height": null,
            "min_width": null,
            "object_fit": null,
            "object_position": null,
            "order": null,
            "overflow": null,
            "overflow_x": null,
            "overflow_y": null,
            "padding": null,
            "right": null,
            "top": null,
            "visibility": null,
            "width": null
          }
        },
        "ac49b12bf23044209282f5bca238b698": {
          "model_module": "@jupyter-widgets/base",
          "model_name": "LayoutModel",
          "model_module_version": "1.2.0",
          "state": {
            "_model_module": "@jupyter-widgets/base",
            "_model_module_version": "1.2.0",
            "_model_name": "LayoutModel",
            "_view_count": null,
            "_view_module": "@jupyter-widgets/base",
            "_view_module_version": "1.2.0",
            "_view_name": "LayoutView",
            "align_content": null,
            "align_items": null,
            "align_self": null,
            "border": null,
            "bottom": null,
            "display": null,
            "flex": null,
            "flex_flow": null,
            "grid_area": null,
            "grid_auto_columns": null,
            "grid_auto_flow": null,
            "grid_auto_rows": null,
            "grid_column": null,
            "grid_gap": null,
            "grid_row": null,
            "grid_template_areas": null,
            "grid_template_columns": null,
            "grid_template_rows": null,
            "height": null,
            "justify_content": null,
            "justify_items": null,
            "left": null,
            "margin": null,
            "max_height": null,
            "max_width": null,
            "min_height": null,
            "min_width": null,
            "object_fit": null,
            "object_position": null,
            "order": null,
            "overflow": null,
            "overflow_x": null,
            "overflow_y": null,
            "padding": null,
            "right": null,
            "top": null,
            "visibility": null,
            "width": null
          }
        },
        "f72e16f277564f359d3a925281d4a75b": {
          "model_module": "@jupyter-widgets/controls",
          "model_name": "DescriptionStyleModel",
          "model_module_version": "1.5.0",
          "state": {
            "_model_module": "@jupyter-widgets/controls",
            "_model_module_version": "1.5.0",
            "_model_name": "DescriptionStyleModel",
            "_view_count": null,
            "_view_module": "@jupyter-widgets/base",
            "_view_module_version": "1.2.0",
            "_view_name": "StyleView",
            "description_width": ""
          }
        },
        "e05b9da1cd4a4f53886e7d2e4f66997a": {
          "model_module": "@jupyter-widgets/base",
          "model_name": "LayoutModel",
          "model_module_version": "1.2.0",
          "state": {
            "_model_module": "@jupyter-widgets/base",
            "_model_module_version": "1.2.0",
            "_model_name": "LayoutModel",
            "_view_count": null,
            "_view_module": "@jupyter-widgets/base",
            "_view_module_version": "1.2.0",
            "_view_name": "LayoutView",
            "align_content": null,
            "align_items": null,
            "align_self": null,
            "border": null,
            "bottom": null,
            "display": null,
            "flex": null,
            "flex_flow": null,
            "grid_area": null,
            "grid_auto_columns": null,
            "grid_auto_flow": null,
            "grid_auto_rows": null,
            "grid_column": null,
            "grid_gap": null,
            "grid_row": null,
            "grid_template_areas": null,
            "grid_template_columns": null,
            "grid_template_rows": null,
            "height": null,
            "justify_content": null,
            "justify_items": null,
            "left": null,
            "margin": null,
            "max_height": null,
            "max_width": null,
            "min_height": null,
            "min_width": null,
            "object_fit": null,
            "object_position": null,
            "order": null,
            "overflow": null,
            "overflow_x": null,
            "overflow_y": null,
            "padding": null,
            "right": null,
            "top": null,
            "visibility": null,
            "width": null
          }
        },
        "1b4ca6a5a15a4ca884fe66521f99135b": {
          "model_module": "@jupyter-widgets/controls",
          "model_name": "ProgressStyleModel",
          "model_module_version": "1.5.0",
          "state": {
            "_model_module": "@jupyter-widgets/controls",
            "_model_module_version": "1.5.0",
            "_model_name": "ProgressStyleModel",
            "_view_count": null,
            "_view_module": "@jupyter-widgets/base",
            "_view_module_version": "1.2.0",
            "_view_name": "StyleView",
            "bar_color": null,
            "description_width": ""
          }
        },
        "b994a7cb9e4741919da1f0624381d1e3": {
          "model_module": "@jupyter-widgets/base",
          "model_name": "LayoutModel",
          "model_module_version": "1.2.0",
          "state": {
            "_model_module": "@jupyter-widgets/base",
            "_model_module_version": "1.2.0",
            "_model_name": "LayoutModel",
            "_view_count": null,
            "_view_module": "@jupyter-widgets/base",
            "_view_module_version": "1.2.0",
            "_view_name": "LayoutView",
            "align_content": null,
            "align_items": null,
            "align_self": null,
            "border": null,
            "bottom": null,
            "display": null,
            "flex": null,
            "flex_flow": null,
            "grid_area": null,
            "grid_auto_columns": null,
            "grid_auto_flow": null,
            "grid_auto_rows": null,
            "grid_column": null,
            "grid_gap": null,
            "grid_row": null,
            "grid_template_areas": null,
            "grid_template_columns": null,
            "grid_template_rows": null,
            "height": null,
            "justify_content": null,
            "justify_items": null,
            "left": null,
            "margin": null,
            "max_height": null,
            "max_width": null,
            "min_height": null,
            "min_width": null,
            "object_fit": null,
            "object_position": null,
            "order": null,
            "overflow": null,
            "overflow_x": null,
            "overflow_y": null,
            "padding": null,
            "right": null,
            "top": null,
            "visibility": null,
            "width": null
          }
        },
        "4505235c1b4b466993fd5f0b4b12adef": {
          "model_module": "@jupyter-widgets/controls",
          "model_name": "DescriptionStyleModel",
          "model_module_version": "1.5.0",
          "state": {
            "_model_module": "@jupyter-widgets/controls",
            "_model_module_version": "1.5.0",
            "_model_name": "DescriptionStyleModel",
            "_view_count": null,
            "_view_module": "@jupyter-widgets/base",
            "_view_module_version": "1.2.0",
            "_view_name": "StyleView",
            "description_width": ""
          }
        },
        "a9219d92d56843299e99ddae986ce7b4": {
          "model_module": "@jupyter-widgets/controls",
          "model_name": "HBoxModel",
          "model_module_version": "1.5.0",
          "state": {
            "_dom_classes": [],
            "_model_module": "@jupyter-widgets/controls",
            "_model_module_version": "1.5.0",
            "_model_name": "HBoxModel",
            "_view_count": null,
            "_view_module": "@jupyter-widgets/controls",
            "_view_module_version": "1.5.0",
            "_view_name": "HBoxView",
            "box_style": "",
            "children": [
              "IPY_MODEL_e0faa6969f5d4210ae9a308ed2eaf6ef",
              "IPY_MODEL_69579002570a40b39fca738b685a8c2e",
              "IPY_MODEL_6a7b2b29f927401cb9d5495691917848"
            ],
            "layout": "IPY_MODEL_bc53acdd1022477398cf2ad914b8157f"
          }
        },
        "e0faa6969f5d4210ae9a308ed2eaf6ef": {
          "model_module": "@jupyter-widgets/controls",
          "model_name": "HTMLModel",
          "model_module_version": "1.5.0",
          "state": {
            "_dom_classes": [],
            "_model_module": "@jupyter-widgets/controls",
            "_model_module_version": "1.5.0",
            "_model_name": "HTMLModel",
            "_view_count": null,
            "_view_module": "@jupyter-widgets/controls",
            "_view_module_version": "1.5.0",
            "_view_name": "HTMLView",
            "description": "",
            "description_tooltip": null,
            "layout": "IPY_MODEL_c7cd583bfca64e73a9d05cfc170492ad",
            "placeholder": "​",
            "style": "IPY_MODEL_649cbbedd2bc46978926938ebb3489f9",
            "value": ""
          }
        },
        "69579002570a40b39fca738b685a8c2e": {
          "model_module": "@jupyter-widgets/controls",
          "model_name": "FloatProgressModel",
          "model_module_version": "1.5.0",
          "state": {
            "_dom_classes": [],
            "_model_module": "@jupyter-widgets/controls",
            "_model_module_version": "1.5.0",
            "_model_name": "FloatProgressModel",
            "_view_count": null,
            "_view_module": "@jupyter-widgets/controls",
            "_view_module_version": "1.5.0",
            "_view_name": "ProgressView",
            "bar_style": "success",
            "description": "",
            "description_tooltip": null,
            "layout": "IPY_MODEL_5e162ec2ce5842a7a56be6cdb253f0d6",
            "max": 1648877,
            "min": 0,
            "orientation": "horizontal",
            "style": "IPY_MODEL_2325ee5784e14d2687b4213a8b499fb6",
            "value": 1648877
          }
        },
        "6a7b2b29f927401cb9d5495691917848": {
          "model_module": "@jupyter-widgets/controls",
          "model_name": "HTMLModel",
          "model_module_version": "1.5.0",
          "state": {
            "_dom_classes": [],
            "_model_module": "@jupyter-widgets/controls",
            "_model_module_version": "1.5.0",
            "_model_name": "HTMLModel",
            "_view_count": null,
            "_view_module": "@jupyter-widgets/controls",
            "_view_module_version": "1.5.0",
            "_view_name": "HTMLView",
            "description": "",
            "description_tooltip": null,
            "layout": "IPY_MODEL_f87040ecfa2841729057335dfbbb7dd9",
            "placeholder": "​",
            "style": "IPY_MODEL_f60646d0ff5549379661ae898e241833",
            "value": " 1649664/? [00:00&lt;00:00, 29510555.15it/s]"
          }
        },
        "bc53acdd1022477398cf2ad914b8157f": {
          "model_module": "@jupyter-widgets/base",
          "model_name": "LayoutModel",
          "model_module_version": "1.2.0",
          "state": {
            "_model_module": "@jupyter-widgets/base",
            "_model_module_version": "1.2.0",
            "_model_name": "LayoutModel",
            "_view_count": null,
            "_view_module": "@jupyter-widgets/base",
            "_view_module_version": "1.2.0",
            "_view_name": "LayoutView",
            "align_content": null,
            "align_items": null,
            "align_self": null,
            "border": null,
            "bottom": null,
            "display": null,
            "flex": null,
            "flex_flow": null,
            "grid_area": null,
            "grid_auto_columns": null,
            "grid_auto_flow": null,
            "grid_auto_rows": null,
            "grid_column": null,
            "grid_gap": null,
            "grid_row": null,
            "grid_template_areas": null,
            "grid_template_columns": null,
            "grid_template_rows": null,
            "height": null,
            "justify_content": null,
            "justify_items": null,
            "left": null,
            "margin": null,
            "max_height": null,
            "max_width": null,
            "min_height": null,
            "min_width": null,
            "object_fit": null,
            "object_position": null,
            "order": null,
            "overflow": null,
            "overflow_x": null,
            "overflow_y": null,
            "padding": null,
            "right": null,
            "top": null,
            "visibility": null,
            "width": null
          }
        },
        "c7cd583bfca64e73a9d05cfc170492ad": {
          "model_module": "@jupyter-widgets/base",
          "model_name": "LayoutModel",
          "model_module_version": "1.2.0",
          "state": {
            "_model_module": "@jupyter-widgets/base",
            "_model_module_version": "1.2.0",
            "_model_name": "LayoutModel",
            "_view_count": null,
            "_view_module": "@jupyter-widgets/base",
            "_view_module_version": "1.2.0",
            "_view_name": "LayoutView",
            "align_content": null,
            "align_items": null,
            "align_self": null,
            "border": null,
            "bottom": null,
            "display": null,
            "flex": null,
            "flex_flow": null,
            "grid_area": null,
            "grid_auto_columns": null,
            "grid_auto_flow": null,
            "grid_auto_rows": null,
            "grid_column": null,
            "grid_gap": null,
            "grid_row": null,
            "grid_template_areas": null,
            "grid_template_columns": null,
            "grid_template_rows": null,
            "height": null,
            "justify_content": null,
            "justify_items": null,
            "left": null,
            "margin": null,
            "max_height": null,
            "max_width": null,
            "min_height": null,
            "min_width": null,
            "object_fit": null,
            "object_position": null,
            "order": null,
            "overflow": null,
            "overflow_x": null,
            "overflow_y": null,
            "padding": null,
            "right": null,
            "top": null,
            "visibility": null,
            "width": null
          }
        },
        "649cbbedd2bc46978926938ebb3489f9": {
          "model_module": "@jupyter-widgets/controls",
          "model_name": "DescriptionStyleModel",
          "model_module_version": "1.5.0",
          "state": {
            "_model_module": "@jupyter-widgets/controls",
            "_model_module_version": "1.5.0",
            "_model_name": "DescriptionStyleModel",
            "_view_count": null,
            "_view_module": "@jupyter-widgets/base",
            "_view_module_version": "1.2.0",
            "_view_name": "StyleView",
            "description_width": ""
          }
        },
        "5e162ec2ce5842a7a56be6cdb253f0d6": {
          "model_module": "@jupyter-widgets/base",
          "model_name": "LayoutModel",
          "model_module_version": "1.2.0",
          "state": {
            "_model_module": "@jupyter-widgets/base",
            "_model_module_version": "1.2.0",
            "_model_name": "LayoutModel",
            "_view_count": null,
            "_view_module": "@jupyter-widgets/base",
            "_view_module_version": "1.2.0",
            "_view_name": "LayoutView",
            "align_content": null,
            "align_items": null,
            "align_self": null,
            "border": null,
            "bottom": null,
            "display": null,
            "flex": null,
            "flex_flow": null,
            "grid_area": null,
            "grid_auto_columns": null,
            "grid_auto_flow": null,
            "grid_auto_rows": null,
            "grid_column": null,
            "grid_gap": null,
            "grid_row": null,
            "grid_template_areas": null,
            "grid_template_columns": null,
            "grid_template_rows": null,
            "height": null,
            "justify_content": null,
            "justify_items": null,
            "left": null,
            "margin": null,
            "max_height": null,
            "max_width": null,
            "min_height": null,
            "min_width": null,
            "object_fit": null,
            "object_position": null,
            "order": null,
            "overflow": null,
            "overflow_x": null,
            "overflow_y": null,
            "padding": null,
            "right": null,
            "top": null,
            "visibility": null,
            "width": null
          }
        },
        "2325ee5784e14d2687b4213a8b499fb6": {
          "model_module": "@jupyter-widgets/controls",
          "model_name": "ProgressStyleModel",
          "model_module_version": "1.5.0",
          "state": {
            "_model_module": "@jupyter-widgets/controls",
            "_model_module_version": "1.5.0",
            "_model_name": "ProgressStyleModel",
            "_view_count": null,
            "_view_module": "@jupyter-widgets/base",
            "_view_module_version": "1.2.0",
            "_view_name": "StyleView",
            "bar_color": null,
            "description_width": ""
          }
        },
        "f87040ecfa2841729057335dfbbb7dd9": {
          "model_module": "@jupyter-widgets/base",
          "model_name": "LayoutModel",
          "model_module_version": "1.2.0",
          "state": {
            "_model_module": "@jupyter-widgets/base",
            "_model_module_version": "1.2.0",
            "_model_name": "LayoutModel",
            "_view_count": null,
            "_view_module": "@jupyter-widgets/base",
            "_view_module_version": "1.2.0",
            "_view_name": "LayoutView",
            "align_content": null,
            "align_items": null,
            "align_self": null,
            "border": null,
            "bottom": null,
            "display": null,
            "flex": null,
            "flex_flow": null,
            "grid_area": null,
            "grid_auto_columns": null,
            "grid_auto_flow": null,
            "grid_auto_rows": null,
            "grid_column": null,
            "grid_gap": null,
            "grid_row": null,
            "grid_template_areas": null,
            "grid_template_columns": null,
            "grid_template_rows": null,
            "height": null,
            "justify_content": null,
            "justify_items": null,
            "left": null,
            "margin": null,
            "max_height": null,
            "max_width": null,
            "min_height": null,
            "min_width": null,
            "object_fit": null,
            "object_position": null,
            "order": null,
            "overflow": null,
            "overflow_x": null,
            "overflow_y": null,
            "padding": null,
            "right": null,
            "top": null,
            "visibility": null,
            "width": null
          }
        },
        "f60646d0ff5549379661ae898e241833": {
          "model_module": "@jupyter-widgets/controls",
          "model_name": "DescriptionStyleModel",
          "model_module_version": "1.5.0",
          "state": {
            "_model_module": "@jupyter-widgets/controls",
            "_model_module_version": "1.5.0",
            "_model_name": "DescriptionStyleModel",
            "_view_count": null,
            "_view_module": "@jupyter-widgets/base",
            "_view_module_version": "1.2.0",
            "_view_name": "StyleView",
            "description_width": ""
          }
        },
        "2d8ccc127f8b4b089c4946e27b7d7506": {
          "model_module": "@jupyter-widgets/controls",
          "model_name": "HBoxModel",
          "model_module_version": "1.5.0",
          "state": {
            "_dom_classes": [],
            "_model_module": "@jupyter-widgets/controls",
            "_model_module_version": "1.5.0",
            "_model_name": "HBoxModel",
            "_view_count": null,
            "_view_module": "@jupyter-widgets/controls",
            "_view_module_version": "1.5.0",
            "_view_name": "HBoxView",
            "box_style": "",
            "children": [
              "IPY_MODEL_89c518f054cf4c5da32e7049a0fcef00",
              "IPY_MODEL_622f93a48cbd461980ff8813b29931d9",
              "IPY_MODEL_78bfd00588084162b825daefec52454c"
            ],
            "layout": "IPY_MODEL_8c66dd7077e64944ac5cf1164b74377e"
          }
        },
        "89c518f054cf4c5da32e7049a0fcef00": {
          "model_module": "@jupyter-widgets/controls",
          "model_name": "HTMLModel",
          "model_module_version": "1.5.0",
          "state": {
            "_dom_classes": [],
            "_model_module": "@jupyter-widgets/controls",
            "_model_module_version": "1.5.0",
            "_model_name": "HTMLModel",
            "_view_count": null,
            "_view_module": "@jupyter-widgets/controls",
            "_view_module_version": "1.5.0",
            "_view_name": "HTMLView",
            "description": "",
            "description_tooltip": null,
            "layout": "IPY_MODEL_7eb93685b64940a8b3f46edeeeca0d2f",
            "placeholder": "​",
            "style": "IPY_MODEL_99eef2878e4a4cb9baa1eb3eaf72af68",
            "value": ""
          }
        },
        "622f93a48cbd461980ff8813b29931d9": {
          "model_module": "@jupyter-widgets/controls",
          "model_name": "FloatProgressModel",
          "model_module_version": "1.5.0",
          "state": {
            "_dom_classes": [],
            "_model_module": "@jupyter-widgets/controls",
            "_model_module_version": "1.5.0",
            "_model_name": "FloatProgressModel",
            "_view_count": null,
            "_view_module": "@jupyter-widgets/controls",
            "_view_module_version": "1.5.0",
            "_view_name": "ProgressView",
            "bar_style": "success",
            "description": "",
            "description_tooltip": null,
            "layout": "IPY_MODEL_a74ae327f1fa464c8336b38a1f978167",
            "max": 4542,
            "min": 0,
            "orientation": "horizontal",
            "style": "IPY_MODEL_bb9a35810d934e9db1ce5f29f6251327",
            "value": 4542
          }
        },
        "78bfd00588084162b825daefec52454c": {
          "model_module": "@jupyter-widgets/controls",
          "model_name": "HTMLModel",
          "model_module_version": "1.5.0",
          "state": {
            "_dom_classes": [],
            "_model_module": "@jupyter-widgets/controls",
            "_model_module_version": "1.5.0",
            "_model_name": "HTMLModel",
            "_view_count": null,
            "_view_module": "@jupyter-widgets/controls",
            "_view_module_version": "1.5.0",
            "_view_name": "HTMLView",
            "description": "",
            "description_tooltip": null,
            "layout": "IPY_MODEL_29473398692f43dea9aca09e3da3aeaf",
            "placeholder": "​",
            "style": "IPY_MODEL_f99f9161a1f44d128b85507ed4fd1b25",
            "value": " 5120/? [00:00&lt;00:00, 173559.28it/s]"
          }
        },
        "8c66dd7077e64944ac5cf1164b74377e": {
          "model_module": "@jupyter-widgets/base",
          "model_name": "LayoutModel",
          "model_module_version": "1.2.0",
          "state": {
            "_model_module": "@jupyter-widgets/base",
            "_model_module_version": "1.2.0",
            "_model_name": "LayoutModel",
            "_view_count": null,
            "_view_module": "@jupyter-widgets/base",
            "_view_module_version": "1.2.0",
            "_view_name": "LayoutView",
            "align_content": null,
            "align_items": null,
            "align_self": null,
            "border": null,
            "bottom": null,
            "display": null,
            "flex": null,
            "flex_flow": null,
            "grid_area": null,
            "grid_auto_columns": null,
            "grid_auto_flow": null,
            "grid_auto_rows": null,
            "grid_column": null,
            "grid_gap": null,
            "grid_row": null,
            "grid_template_areas": null,
            "grid_template_columns": null,
            "grid_template_rows": null,
            "height": null,
            "justify_content": null,
            "justify_items": null,
            "left": null,
            "margin": null,
            "max_height": null,
            "max_width": null,
            "min_height": null,
            "min_width": null,
            "object_fit": null,
            "object_position": null,
            "order": null,
            "overflow": null,
            "overflow_x": null,
            "overflow_y": null,
            "padding": null,
            "right": null,
            "top": null,
            "visibility": null,
            "width": null
          }
        },
        "7eb93685b64940a8b3f46edeeeca0d2f": {
          "model_module": "@jupyter-widgets/base",
          "model_name": "LayoutModel",
          "model_module_version": "1.2.0",
          "state": {
            "_model_module": "@jupyter-widgets/base",
            "_model_module_version": "1.2.0",
            "_model_name": "LayoutModel",
            "_view_count": null,
            "_view_module": "@jupyter-widgets/base",
            "_view_module_version": "1.2.0",
            "_view_name": "LayoutView",
            "align_content": null,
            "align_items": null,
            "align_self": null,
            "border": null,
            "bottom": null,
            "display": null,
            "flex": null,
            "flex_flow": null,
            "grid_area": null,
            "grid_auto_columns": null,
            "grid_auto_flow": null,
            "grid_auto_rows": null,
            "grid_column": null,
            "grid_gap": null,
            "grid_row": null,
            "grid_template_areas": null,
            "grid_template_columns": null,
            "grid_template_rows": null,
            "height": null,
            "justify_content": null,
            "justify_items": null,
            "left": null,
            "margin": null,
            "max_height": null,
            "max_width": null,
            "min_height": null,
            "min_width": null,
            "object_fit": null,
            "object_position": null,
            "order": null,
            "overflow": null,
            "overflow_x": null,
            "overflow_y": null,
            "padding": null,
            "right": null,
            "top": null,
            "visibility": null,
            "width": null
          }
        },
        "99eef2878e4a4cb9baa1eb3eaf72af68": {
          "model_module": "@jupyter-widgets/controls",
          "model_name": "DescriptionStyleModel",
          "model_module_version": "1.5.0",
          "state": {
            "_model_module": "@jupyter-widgets/controls",
            "_model_module_version": "1.5.0",
            "_model_name": "DescriptionStyleModel",
            "_view_count": null,
            "_view_module": "@jupyter-widgets/base",
            "_view_module_version": "1.2.0",
            "_view_name": "StyleView",
            "description_width": ""
          }
        },
        "a74ae327f1fa464c8336b38a1f978167": {
          "model_module": "@jupyter-widgets/base",
          "model_name": "LayoutModel",
          "model_module_version": "1.2.0",
          "state": {
            "_model_module": "@jupyter-widgets/base",
            "_model_module_version": "1.2.0",
            "_model_name": "LayoutModel",
            "_view_count": null,
            "_view_module": "@jupyter-widgets/base",
            "_view_module_version": "1.2.0",
            "_view_name": "LayoutView",
            "align_content": null,
            "align_items": null,
            "align_self": null,
            "border": null,
            "bottom": null,
            "display": null,
            "flex": null,
            "flex_flow": null,
            "grid_area": null,
            "grid_auto_columns": null,
            "grid_auto_flow": null,
            "grid_auto_rows": null,
            "grid_column": null,
            "grid_gap": null,
            "grid_row": null,
            "grid_template_areas": null,
            "grid_template_columns": null,
            "grid_template_rows": null,
            "height": null,
            "justify_content": null,
            "justify_items": null,
            "left": null,
            "margin": null,
            "max_height": null,
            "max_width": null,
            "min_height": null,
            "min_width": null,
            "object_fit": null,
            "object_position": null,
            "order": null,
            "overflow": null,
            "overflow_x": null,
            "overflow_y": null,
            "padding": null,
            "right": null,
            "top": null,
            "visibility": null,
            "width": null
          }
        },
        "bb9a35810d934e9db1ce5f29f6251327": {
          "model_module": "@jupyter-widgets/controls",
          "model_name": "ProgressStyleModel",
          "model_module_version": "1.5.0",
          "state": {
            "_model_module": "@jupyter-widgets/controls",
            "_model_module_version": "1.5.0",
            "_model_name": "ProgressStyleModel",
            "_view_count": null,
            "_view_module": "@jupyter-widgets/base",
            "_view_module_version": "1.2.0",
            "_view_name": "StyleView",
            "bar_color": null,
            "description_width": ""
          }
        },
        "29473398692f43dea9aca09e3da3aeaf": {
          "model_module": "@jupyter-widgets/base",
          "model_name": "LayoutModel",
          "model_module_version": "1.2.0",
          "state": {
            "_model_module": "@jupyter-widgets/base",
            "_model_module_version": "1.2.0",
            "_model_name": "LayoutModel",
            "_view_count": null,
            "_view_module": "@jupyter-widgets/base",
            "_view_module_version": "1.2.0",
            "_view_name": "LayoutView",
            "align_content": null,
            "align_items": null,
            "align_self": null,
            "border": null,
            "bottom": null,
            "display": null,
            "flex": null,
            "flex_flow": null,
            "grid_area": null,
            "grid_auto_columns": null,
            "grid_auto_flow": null,
            "grid_auto_rows": null,
            "grid_column": null,
            "grid_gap": null,
            "grid_row": null,
            "grid_template_areas": null,
            "grid_template_columns": null,
            "grid_template_rows": null,
            "height": null,
            "justify_content": null,
            "justify_items": null,
            "left": null,
            "margin": null,
            "max_height": null,
            "max_width": null,
            "min_height": null,
            "min_width": null,
            "object_fit": null,
            "object_position": null,
            "order": null,
            "overflow": null,
            "overflow_x": null,
            "overflow_y": null,
            "padding": null,
            "right": null,
            "top": null,
            "visibility": null,
            "width": null
          }
        },
        "f99f9161a1f44d128b85507ed4fd1b25": {
          "model_module": "@jupyter-widgets/controls",
          "model_name": "DescriptionStyleModel",
          "model_module_version": "1.5.0",
          "state": {
            "_model_module": "@jupyter-widgets/controls",
            "_model_module_version": "1.5.0",
            "_model_name": "DescriptionStyleModel",
            "_view_count": null,
            "_view_module": "@jupyter-widgets/base",
            "_view_module_version": "1.2.0",
            "_view_name": "StyleView",
            "description_width": ""
          }
        }
      }
    }
  },
  "nbformat": 4,
  "nbformat_minor": 0
}